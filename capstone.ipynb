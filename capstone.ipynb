{
 "cells": [
  {
   "cell_type": "code",
   "execution_count": 1,
   "metadata": {
    "collapsed": false,
    "deletable": true,
    "editable": true
   },
   "outputs": [
    {
     "name": "stderr",
     "output_type": "stream",
     "text": [
      "h:\\anaconda3\\envs\\py27\\lib\\site-packages\\sklearn\\cross_validation.py:44: DeprecationWarning: This module was deprecated in version 0.18 in favor of the model_selection module into which all the refactored classes and functions are moved. Also note that the interface of the new CV iterators are different from that of this module. This module will be removed in 0.20.\n",
      "  \"This module will be removed in 0.20.\", DeprecationWarning)\n",
      "h:\\anaconda3\\envs\\py27\\lib\\site-packages\\sklearn\\grid_search.py:43: DeprecationWarning: This module was deprecated in version 0.18 in favor of the model_selection module into which all the refactored classes and functions are moved. This module will be removed in 0.20.\n",
      "  DeprecationWarning)\n"
     ]
    }
   ],
   "source": [
    "import pandas as pd\n",
    "import seaborn as sns\n",
    "import matplotlib.pyplot as plt\n",
    "import numpy as np\n",
    "from IPython.display import display\n",
    "from sklearn.ensemble import RandomForestClassifier\n",
    "from sklearn.preprocessing import MinMaxScaler\n",
    "from sklearn.feature_selection import SelectFromModel\n",
    "from sklearn.cross_validation import train_test_split\n",
    "from sklearn.metrics import roc_auc_score #AUC score\n",
    "from sklearn.metrics import roc_curve\n",
    "from sklearn.ensemble import AdaBoostClassifier\n",
    "from sklearn.grid_search import GridSearchCV\n",
    "from sklearn import linear_model\n",
    "from sklearn.naive_bayes import GaussianNB\n",
    "from sklearn.tree import DecisionTreeClassifier\n",
    "from sklearn import cross_validation\n",
    "from sklearn import linear_model\n",
    "from sklearn import metrics\n",
    "from sklearn.ensemble import GradientBoostingClassifier\n",
    "from time import time\n",
    "import xgboost as xgb\n",
    "from sklearn import neighbors\n",
    "import sys\n",
    "\n",
    "\n",
    "%matplotlib inline"
   ]
  },
  {
   "cell_type": "markdown",
   "metadata": {
    "deletable": true,
    "editable": true
   },
   "source": [
    "### 1. Load Data"
   ]
  },
  {
   "cell_type": "code",
   "execution_count": 2,
   "metadata": {
    "collapsed": false,
    "deletable": true,
    "editable": true,
    "scrolled": true
   },
   "outputs": [
    {
     "name": "stdout",
     "output_type": "stream",
     "text": [
      "371\n",
      "370\n"
     ]
    }
   ],
   "source": [
    "train = pd.read_csv(\"train/train.csv\")\n",
    "test = pd.read_csv(\"test/test.csv\")\n",
    "\n",
    "print len(train.columns)\n",
    "print len(test.columns)"
   ]
  },
  {
   "cell_type": "code",
   "execution_count": 4,
   "metadata": {
    "collapsed": false,
    "deletable": true,
    "editable": true
   },
   "outputs": [
    {
     "name": "stdout",
     "output_type": "stream",
     "text": [
      "training set shape:  (76020, 371)\n",
      "test set shape:  (75818, 370)\n"
     ]
    }
   ],
   "source": [
    "print \"training set shape: \", train.shape\n",
    "print \"test set shape: \", test.shape"
   ]
  },
  {
   "cell_type": "code",
   "execution_count": 5,
   "metadata": {
    "collapsed": false,
    "deletable": true,
    "editable": true,
    "scrolled": true
   },
   "outputs": [
    {
     "name": "stdout",
     "output_type": "stream",
     "text": [
      "number of training data:  76020\n",
      "number of features:  369\n",
      "number of satisfied customers:  73012\n",
      "number of unsatisfied customers:  3008\n"
     ]
    },
    {
     "data": {
      "image/png": "[encoded data removed]",
      "text/plain": [
       "<matplotlib.figure.Figure at 0xa97d550>"
      ]
     },
     "metadata": {},
     "output_type": "display_data"
    }
   ],
   "source": [
    "# number of training data\n",
    "print \"number of training data: \",len(train)\n",
    "#print type(train.columns.values)\n",
    "print \"number of features: \",len(train.columns)-2  #Exclude ID and Target\n",
    "print \"number of satisfied customers: \",len(train[train[\"TARGET\"]==0])\n",
    "\n",
    "#print type(train[train[\"TARGET\"]==0])\n",
    "print \"number of unsatisfied customers: \",len(train[train[\"TARGET\"]==1])\n",
    "\n",
    "plt.hist(train['TARGET'],np.arange(0,1.5,0.3),alpha=0.5,color='r')\n",
    "plt.title(\"Customer Satisfaction\")\n",
    "plt.xticks(np.arange(3)+0.10,('Satisfied','Unsatisfied'))\n",
    "plt.ylabel(\"Number of Customers\")\n",
    "plt.show()"
   ]
  },
  {
   "cell_type": "code",
   "execution_count": 6,
   "metadata": {
    "collapsed": false,
    "deletable": true,
    "editable": true
   },
   "outputs": [
    {
     "name": "stdout",
     "output_type": "stream",
     "text": [
      "number of test data:  75818\n",
      "number of features:  369\n"
     ]
    }
   ],
   "source": [
    "#number of test data\n",
    "print \"number of test data: \",len(test)\n",
    "print \"number of features: \",len(test.columns)-1"
   ]
  },
  {
   "cell_type": "markdown",
   "metadata": {
    "deletable": true,
    "editable": true
   },
   "source": [
    "### 2. Data Cleaning\n",
    "##### -Observation: Some columns have constant values and some columns are duplicate. We can find out those columns and remove them to decrease the number of features."
   ]
  },
  {
   "cell_type": "code",
   "execution_count": 7,
   "metadata": {
    "collapsed": false,
    "deletable": true,
    "editable": true
   },
   "outputs": [
    {
     "name": "stdout",
     "output_type": "stream",
     "text": [
      "['ind_var2_0', 'ind_var2', 'ind_var27_0', 'ind_var28_0', 'ind_var28', 'ind_var27', 'ind_var41', 'ind_var46_0', 'ind_var46', 'num_var27_0', 'num_var28_0', 'num_var28', 'num_var27', 'num_var41', 'num_var46_0', 'num_var46', 'saldo_var28', 'saldo_var27', 'saldo_var41', 'saldo_var46', 'imp_amort_var18_hace3', 'imp_amort_var34_hace3', 'imp_reemb_var13_hace3', 'imp_reemb_var33_hace3', 'imp_trasp_var17_out_hace3', 'imp_trasp_var33_out_hace3', 'num_var2_0_ult1', 'num_var2_ult1', 'num_reemb_var13_hace3', 'num_reemb_var33_hace3', 'num_trasp_var17_out_hace3', 'num_trasp_var33_out_hace3', 'saldo_var2_ult1', 'saldo_medio_var13_medio_hace3'] \n",
      "\n",
      " number of columns removed:  34\n"
     ]
    }
   ],
   "source": [
    "#Boolean value to indicate if this is a column with constant value\n",
    "removed_col = []\n",
    "\n",
    "# (1)find out columns with constant values\n",
    "for col in train.columns:\n",
    "    first = train.ix[0,[col]].values\n",
    "    if (train[col].values == first * np.ones(len(train)).astype(float)).all():\n",
    "        removed_col.append(col)\n",
    "\n",
    "print removed_col,\n",
    "print \"\\n\\n number of columns removed: \",len(removed_col)"
   ]
  },
  {
   "cell_type": "code",
   "execution_count": 8,
   "metadata": {
    "collapsed": false,
    "deletable": true,
    "editable": true
   },
   "outputs": [
    {
     "name": "stdout",
     "output_type": "stream",
     "text": [
      "337\n"
     ]
    }
   ],
   "source": [
    "#removed columns with constant values\n",
    "train.drop(removed_col,axis=1,inplace=True)\n",
    "test.drop(removed_col,axis=1,inplace=True)\n",
    "print len(train.columns)"
   ]
  },
  {
   "cell_type": "code",
   "execution_count": 9,
   "metadata": {
    "collapsed": false,
    "deletable": true,
    "editable": true
   },
   "outputs": [
    {
     "name": "stdout",
     "output_type": "stream",
     "text": [
      "336\n",
      "number of duplicated columns:  29\n",
      "['ind_var6', 'ind_var8_0', 'ind_var13_medio', 'ind_var18', 'ind_var26_cte', 'ind_var25', 'ind_var32', 'ind_var34', 'ind_var37', 'ind_var41_0', 'num_var6', 'num_var8_0', 'num_var13_medio', 'num_var18', 'num_var26', 'num_var25', 'num_var32', 'num_var34', 'num_var37', 'num_var41_0', 'saldo_var8', 'saldo_var13', 'delta_imp_reemb_var17_1y3', 'delta_imp_reemb_var33_1y3', 'delta_imp_trasp_var17_in_1y3', 'delta_imp_trasp_var17_out_1y3', 'delta_imp_trasp_var33_in_1y3', 'delta_imp_trasp_var33_out_1y3', 'delta_imp_venta_var44_1y3']\n"
     ]
    }
   ],
   "source": [
    "# (2)Check if there are duplicated columns\n",
    "removed_same_col = []\n",
    "columns = train.columns[0:-1]\n",
    "print len(columns)\n",
    "for i in xrange(len(columns)-1):\n",
    "    for j in range(i+1,len(columns)):\n",
    "        if (train[columns[i]].values == train[columns[j]].values).all():\n",
    "            removed_same_col.append(columns[i+1])\n",
    "\n",
    "print \"number of duplicated columns: \",len(removed_same_col)\n",
    "print removed_same_col"
   ]
  },
  {
   "cell_type": "code",
   "execution_count": 10,
   "metadata": {
    "collapsed": false,
    "deletable": true,
    "editable": true
   },
   "outputs": [
    {
     "name": "stdout",
     "output_type": "stream",
     "text": [
      "308\n",
      "307\n"
     ]
    }
   ],
   "source": [
    "\n",
    "\n",
    "#removed duplicaed columns\n",
    "train.drop(removed_same_col,axis=1,inplace=True)\n",
    "test.drop(removed_same_col,axis=1,inplace=True)\n",
    "print len(train.columns)\n",
    "print len(test.columns)\n"
   ]
  },
  {
   "cell_type": "code",
   "execution_count": 11,
   "metadata": {
    "collapsed": false,
    "deletable": true,
    "editable": true,
    "scrolled": true
   },
   "outputs": [
    {
     "name": "stdout",
     "output_type": "stream",
     "text": [
      "training data shape:  (76020, 308)\n",
      "test data shape:  (75818, 307)\n",
      "\n",
      "\n",
      "Display train dataset stats\n"
     ]
    },
    {
     "data": {
      "text/html": [
       "<div>\n",
       "<table border=\"1\" class=\"dataframe\">\n",
       "  <thead>\n",
       "    <tr style=\"text-align: right;\">\n",
       "      <th></th>\n",
       "      <th>ID</th>\n",
       "      <th>var3</th>\n",
       "      <th>var15</th>\n",
       "      <th>imp_ent_var16_ult1</th>\n",
       "      <th>imp_op_var39_comer_ult1</th>\n",
       "      <th>imp_op_var39_comer_ult3</th>\n",
       "      <th>imp_op_var40_comer_ult1</th>\n",
       "      <th>imp_op_var40_comer_ult3</th>\n",
       "      <th>imp_op_var40_efect_ult1</th>\n",
       "      <th>imp_op_var40_efect_ult3</th>\n",
       "      <th>...</th>\n",
       "      <th>saldo_medio_var33_hace2</th>\n",
       "      <th>saldo_medio_var33_hace3</th>\n",
       "      <th>saldo_medio_var33_ult1</th>\n",
       "      <th>saldo_medio_var33_ult3</th>\n",
       "      <th>saldo_medio_var44_hace2</th>\n",
       "      <th>saldo_medio_var44_hace3</th>\n",
       "      <th>saldo_medio_var44_ult1</th>\n",
       "      <th>saldo_medio_var44_ult3</th>\n",
       "      <th>var38</th>\n",
       "      <th>TARGET</th>\n",
       "    </tr>\n",
       "  </thead>\n",
       "  <tbody>\n",
       "    <tr>\n",
       "      <th>count</th>\n",
       "      <td>76020.000000</td>\n",
       "      <td>76020.000000</td>\n",
       "      <td>76020.000000</td>\n",
       "      <td>76020.000000</td>\n",
       "      <td>76020.000000</td>\n",
       "      <td>76020.000000</td>\n",
       "      <td>76020.000000</td>\n",
       "      <td>76020.000000</td>\n",
       "      <td>76020.000000</td>\n",
       "      <td>76020.000000</td>\n",
       "      <td>...</td>\n",
       "      <td>76020.000000</td>\n",
       "      <td>76020.000000</td>\n",
       "      <td>76020.000000</td>\n",
       "      <td>76020.000000</td>\n",
       "      <td>76020.000000</td>\n",
       "      <td>76020.000000</td>\n",
       "      <td>76020.000000</td>\n",
       "      <td>76020.000000</td>\n",
       "      <td>7.602000e+04</td>\n",
       "      <td>76020.000000</td>\n",
       "    </tr>\n",
       "    <tr>\n",
       "      <th>mean</th>\n",
       "      <td>75964.050723</td>\n",
       "      <td>-1523.199277</td>\n",
       "      <td>33.212865</td>\n",
       "      <td>86.208265</td>\n",
       "      <td>72.363067</td>\n",
       "      <td>119.529632</td>\n",
       "      <td>3.559130</td>\n",
       "      <td>6.472698</td>\n",
       "      <td>0.412946</td>\n",
       "      <td>0.567352</td>\n",
       "      <td>...</td>\n",
       "      <td>7.935824</td>\n",
       "      <td>1.365146</td>\n",
       "      <td>12.215580</td>\n",
       "      <td>8.784074</td>\n",
       "      <td>31.505324</td>\n",
       "      <td>1.858575</td>\n",
       "      <td>76.026165</td>\n",
       "      <td>56.614351</td>\n",
       "      <td>1.172358e+05</td>\n",
       "      <td>0.039569</td>\n",
       "    </tr>\n",
       "    <tr>\n",
       "      <th>std</th>\n",
       "      <td>43781.947379</td>\n",
       "      <td>39033.462364</td>\n",
       "      <td>12.956486</td>\n",
       "      <td>1614.757313</td>\n",
       "      <td>339.315831</td>\n",
       "      <td>546.266294</td>\n",
       "      <td>93.155749</td>\n",
       "      <td>153.737066</td>\n",
       "      <td>30.604864</td>\n",
       "      <td>36.513513</td>\n",
       "      <td>...</td>\n",
       "      <td>455.887218</td>\n",
       "      <td>113.959637</td>\n",
       "      <td>783.207399</td>\n",
       "      <td>538.439211</td>\n",
       "      <td>2013.125393</td>\n",
       "      <td>147.786584</td>\n",
       "      <td>4040.337842</td>\n",
       "      <td>2852.579397</td>\n",
       "      <td>1.826646e+05</td>\n",
       "      <td>0.194945</td>\n",
       "    </tr>\n",
       "    <tr>\n",
       "      <th>min</th>\n",
       "      <td>1.000000</td>\n",
       "      <td>-999999.000000</td>\n",
       "      <td>5.000000</td>\n",
       "      <td>0.000000</td>\n",
       "      <td>0.000000</td>\n",
       "      <td>0.000000</td>\n",
       "      <td>0.000000</td>\n",
       "      <td>0.000000</td>\n",
       "      <td>0.000000</td>\n",
       "      <td>0.000000</td>\n",
       "      <td>...</td>\n",
       "      <td>0.000000</td>\n",
       "      <td>0.000000</td>\n",
       "      <td>0.000000</td>\n",
       "      <td>0.000000</td>\n",
       "      <td>0.000000</td>\n",
       "      <td>0.000000</td>\n",
       "      <td>0.000000</td>\n",
       "      <td>0.000000</td>\n",
       "      <td>5.163750e+03</td>\n",
       "      <td>0.000000</td>\n",
       "    </tr>\n",
       "    <tr>\n",
       "      <th>25%</th>\n",
       "      <td>38104.750000</td>\n",
       "      <td>2.000000</td>\n",
       "      <td>23.000000</td>\n",
       "      <td>0.000000</td>\n",
       "      <td>0.000000</td>\n",
       "      <td>0.000000</td>\n",
       "      <td>0.000000</td>\n",
       "      <td>0.000000</td>\n",
       "      <td>0.000000</td>\n",
       "      <td>0.000000</td>\n",
       "      <td>...</td>\n",
       "      <td>0.000000</td>\n",
       "      <td>0.000000</td>\n",
       "      <td>0.000000</td>\n",
       "      <td>0.000000</td>\n",
       "      <td>0.000000</td>\n",
       "      <td>0.000000</td>\n",
       "      <td>0.000000</td>\n",
       "      <td>0.000000</td>\n",
       "      <td>6.787061e+04</td>\n",
       "      <td>0.000000</td>\n",
       "    </tr>\n",
       "    <tr>\n",
       "      <th>50%</th>\n",
       "      <td>76043.000000</td>\n",
       "      <td>2.000000</td>\n",
       "      <td>28.000000</td>\n",
       "      <td>0.000000</td>\n",
       "      <td>0.000000</td>\n",
       "      <td>0.000000</td>\n",
       "      <td>0.000000</td>\n",
       "      <td>0.000000</td>\n",
       "      <td>0.000000</td>\n",
       "      <td>0.000000</td>\n",
       "      <td>...</td>\n",
       "      <td>0.000000</td>\n",
       "      <td>0.000000</td>\n",
       "      <td>0.000000</td>\n",
       "      <td>0.000000</td>\n",
       "      <td>0.000000</td>\n",
       "      <td>0.000000</td>\n",
       "      <td>0.000000</td>\n",
       "      <td>0.000000</td>\n",
       "      <td>1.064092e+05</td>\n",
       "      <td>0.000000</td>\n",
       "    </tr>\n",
       "    <tr>\n",
       "      <th>75%</th>\n",
       "      <td>113748.750000</td>\n",
       "      <td>2.000000</td>\n",
       "      <td>40.000000</td>\n",
       "      <td>0.000000</td>\n",
       "      <td>0.000000</td>\n",
       "      <td>0.000000</td>\n",
       "      <td>0.000000</td>\n",
       "      <td>0.000000</td>\n",
       "      <td>0.000000</td>\n",
       "      <td>0.000000</td>\n",
       "      <td>...</td>\n",
       "      <td>0.000000</td>\n",
       "      <td>0.000000</td>\n",
       "      <td>0.000000</td>\n",
       "      <td>0.000000</td>\n",
       "      <td>0.000000</td>\n",
       "      <td>0.000000</td>\n",
       "      <td>0.000000</td>\n",
       "      <td>0.000000</td>\n",
       "      <td>1.187563e+05</td>\n",
       "      <td>0.000000</td>\n",
       "    </tr>\n",
       "    <tr>\n",
       "      <th>max</th>\n",
       "      <td>151838.000000</td>\n",
       "      <td>238.000000</td>\n",
       "      <td>105.000000</td>\n",
       "      <td>210000.000000</td>\n",
       "      <td>12888.030000</td>\n",
       "      <td>21024.810000</td>\n",
       "      <td>8237.820000</td>\n",
       "      <td>11073.570000</td>\n",
       "      <td>6600.000000</td>\n",
       "      <td>6600.000000</td>\n",
       "      <td>...</td>\n",
       "      <td>50003.880000</td>\n",
       "      <td>20385.720000</td>\n",
       "      <td>138831.630000</td>\n",
       "      <td>91778.730000</td>\n",
       "      <td>438329.220000</td>\n",
       "      <td>24650.010000</td>\n",
       "      <td>681462.900000</td>\n",
       "      <td>397884.300000</td>\n",
       "      <td>2.203474e+07</td>\n",
       "      <td>1.000000</td>\n",
       "    </tr>\n",
       "  </tbody>\n",
       "</table>\n",
       "<p>8 rows × 308 columns</p>\n",
       "</div>"
      ],
      "text/plain": [
       "                  ID           var3         var15  imp_ent_var16_ult1  \\\n",
       "count   76020.000000   76020.000000  76020.000000        76020.000000   \n",
       "mean    75964.050723   -1523.199277     33.212865           86.208265   \n",
       "std     43781.947379   39033.462364     12.956486         1614.757313   \n",
       "min         1.000000 -999999.000000      5.000000            0.000000   \n",
       "25%     38104.750000       2.000000     23.000000            0.000000   \n",
       "50%     76043.000000       2.000000     28.000000            0.000000   \n",
       "75%    113748.750000       2.000000     40.000000            0.000000   \n",
       "max    151838.000000     238.000000    105.000000       210000.000000   \n",
       "\n",
       "       imp_op_var39_comer_ult1  imp_op_var39_comer_ult3  \\\n",
       "count             76020.000000             76020.000000   \n",
       "mean                 72.363067               119.529632   \n",
       "std                 339.315831               546.266294   \n",
       "min                   0.000000                 0.000000   \n",
       "25%                   0.000000                 0.000000   \n",
       "50%                   0.000000                 0.000000   \n",
       "75%                   0.000000                 0.000000   \n",
       "max               12888.030000             21024.810000   \n",
       "\n",
       "       imp_op_var40_comer_ult1  imp_op_var40_comer_ult3  \\\n",
       "count             76020.000000             76020.000000   \n",
       "mean                  3.559130                 6.472698   \n",
       "std                  93.155749               153.737066   \n",
       "min                   0.000000                 0.000000   \n",
       "25%                   0.000000                 0.000000   \n",
       "50%                   0.000000                 0.000000   \n",
       "75%                   0.000000                 0.000000   \n",
       "max                8237.820000             11073.570000   \n",
       "\n",
       "       imp_op_var40_efect_ult1  imp_op_var40_efect_ult3      ...       \\\n",
       "count             76020.000000             76020.000000      ...        \n",
       "mean                  0.412946                 0.567352      ...        \n",
       "std                  30.604864                36.513513      ...        \n",
       "min                   0.000000                 0.000000      ...        \n",
       "25%                   0.000000                 0.000000      ...        \n",
       "50%                   0.000000                 0.000000      ...        \n",
       "75%                   0.000000                 0.000000      ...        \n",
       "max                6600.000000              6600.000000      ...        \n",
       "\n",
       "       saldo_medio_var33_hace2  saldo_medio_var33_hace3  \\\n",
       "count             76020.000000             76020.000000   \n",
       "mean                  7.935824                 1.365146   \n",
       "std                 455.887218               113.959637   \n",
       "min                   0.000000                 0.000000   \n",
       "25%                   0.000000                 0.000000   \n",
       "50%                   0.000000                 0.000000   \n",
       "75%                   0.000000                 0.000000   \n",
       "max               50003.880000             20385.720000   \n",
       "\n",
       "       saldo_medio_var33_ult1  saldo_medio_var33_ult3  \\\n",
       "count            76020.000000            76020.000000   \n",
       "mean                12.215580                8.784074   \n",
       "std                783.207399              538.439211   \n",
       "min                  0.000000                0.000000   \n",
       "25%                  0.000000                0.000000   \n",
       "50%                  0.000000                0.000000   \n",
       "75%                  0.000000                0.000000   \n",
       "max             138831.630000            91778.730000   \n",
       "\n",
       "       saldo_medio_var44_hace2  saldo_medio_var44_hace3  \\\n",
       "count             76020.000000             76020.000000   \n",
       "mean                 31.505324                 1.858575   \n",
       "std                2013.125393               147.786584   \n",
       "min                   0.000000                 0.000000   \n",
       "25%                   0.000000                 0.000000   \n",
       "50%                   0.000000                 0.000000   \n",
       "75%                   0.000000                 0.000000   \n",
       "max              438329.220000             24650.010000   \n",
       "\n",
       "       saldo_medio_var44_ult1  saldo_medio_var44_ult3         var38  \\\n",
       "count            76020.000000            76020.000000  7.602000e+04   \n",
       "mean                76.026165               56.614351  1.172358e+05   \n",
       "std               4040.337842             2852.579397  1.826646e+05   \n",
       "min                  0.000000                0.000000  5.163750e+03   \n",
       "25%                  0.000000                0.000000  6.787061e+04   \n",
       "50%                  0.000000                0.000000  1.064092e+05   \n",
       "75%                  0.000000                0.000000  1.187563e+05   \n",
       "max             681462.900000           397884.300000  2.203474e+07   \n",
       "\n",
       "             TARGET  \n",
       "count  76020.000000  \n",
       "mean       0.039569  \n",
       "std        0.194945  \n",
       "min        0.000000  \n",
       "25%        0.000000  \n",
       "50%        0.000000  \n",
       "75%        0.000000  \n",
       "max        1.000000  \n",
       "\n",
       "[8 rows x 308 columns]"
      ]
     },
     "metadata": {},
     "output_type": "display_data"
    }
   ],
   "source": [
    "print \"training data shape: \",train.shape\n",
    "print \"test data shape: \",test.shape\n",
    "\n",
    "print \"\\n\\nDisplay train dataset stats\"\n",
    "display(train.describe())"
   ]
  },
  {
   "cell_type": "markdown",
   "metadata": {
    "deletable": true,
    "editable": true
   },
   "source": [
    "### 3. Feature Scaling\n",
    "#### From the data describtion above, we can see that the \"mean\" and \"std\" among all the features have huge different. We can do Feature Scaling to create a better representation of customers."
   ]
  },
  {
   "cell_type": "code",
   "execution_count": 12,
   "metadata": {
    "collapsed": false,
    "deletable": true,
    "editable": true
   },
   "outputs": [
    {
     "name": "stdout",
     "output_type": "stream",
     "text": [
      "X train set size:  (60816, 306)\n",
      "Y train set size:  (60816L,)\n",
      "X test set size:  (15204, 306)\n",
      "kaggle test set size:  (75818, 306)\n"
     ]
    }
   ],
   "source": [
    "y_all = train['TARGET']\n",
    "X_all = train.drop(['ID','TARGET'],axis=1)\n",
    "\n",
    "#split data in training dataset\n",
    "X_train,X_test,y_train,y_test = train_test_split(X_all,y_all,test_size = 0.2)\n",
    "\n",
    "kaggle_test = test.drop(['ID'],axis=1)\n",
    "print \"X train set size: \",X_train.shape\n",
    "print \"Y train set size: \",y_train.shape\n",
    "print \"X test set size: \",X_test.shape\n",
    "print \"kaggle test set size: \",kaggle_test.shape\n",
    "\n",
    "#display(X_train.describe())\n"
   ]
  },
  {
   "cell_type": "code",
   "execution_count": 21,
   "metadata": {
    "collapsed": false,
    "deletable": true,
    "editable": true
   },
   "outputs": [
    {
     "name": "stdout",
     "output_type": "stream",
     "text": [
      "(60816L,)\n",
      "(76020L,)\n",
      "[0 0 0 ..., 0 0 0]\n",
      "[0 0 0 ..., 0 0 0]\n",
      "<class 'pandas.core.series.Series'>\n",
      "<class 'pandas.core.series.Series'>\n",
      "\n",
      "\n",
      "(60816, 306)\n",
      "(76020, 306)\n",
      "<class 'pandas.core.frame.DataFrame'>\n",
      "<class 'pandas.core.frame.DataFrame'>\n",
      "\n",
      "\n",
      "76020\n",
      "76020\n"
     ]
    }
   ],
   "source": [
    "print y_train.shape\n",
    "print y_all.shape\n",
    "\n",
    "print y_train.values\n",
    "print y_all.values\n",
    "print type(y_train)\n",
    "print type(y_all)\n",
    "\n",
    "print '\\n'\n",
    "\n",
    "print X_train.shape\n",
    "print X_all.shape\n",
    "print type(X_all)\n",
    "print type(X_train)\n",
    "\n",
    "\n",
    "print '\\n'\n",
    "\n",
    "print y_train.shape[0]+y_test.shape[0]\n",
    "print X_train.shape[0]+X_test.shape[0]"
   ]
  },
  {
   "cell_type": "code",
   "execution_count": 22,
   "metadata": {
    "collapsed": false,
    "deletable": true,
    "editable": true
   },
   "outputs": [
    {
     "data": {
      "text/html": [
       "<div>\n",
       "<table border=\"1\" class=\"dataframe\">\n",
       "  <thead>\n",
       "    <tr style=\"text-align: right;\">\n",
       "      <th></th>\n",
       "      <th>var3</th>\n",
       "      <th>var15</th>\n",
       "      <th>imp_ent_var16_ult1</th>\n",
       "      <th>imp_op_var39_comer_ult1</th>\n",
       "      <th>imp_op_var39_comer_ult3</th>\n",
       "      <th>imp_op_var40_comer_ult1</th>\n",
       "      <th>imp_op_var40_comer_ult3</th>\n",
       "      <th>imp_op_var40_efect_ult1</th>\n",
       "      <th>imp_op_var40_efect_ult3</th>\n",
       "      <th>imp_op_var40_ult1</th>\n",
       "      <th>...</th>\n",
       "      <th>saldo_medio_var29_ult3</th>\n",
       "      <th>saldo_medio_var33_hace2</th>\n",
       "      <th>saldo_medio_var33_hace3</th>\n",
       "      <th>saldo_medio_var33_ult1</th>\n",
       "      <th>saldo_medio_var33_ult3</th>\n",
       "      <th>saldo_medio_var44_hace2</th>\n",
       "      <th>saldo_medio_var44_hace3</th>\n",
       "      <th>saldo_medio_var44_ult1</th>\n",
       "      <th>saldo_medio_var44_ult3</th>\n",
       "      <th>var38</th>\n",
       "    </tr>\n",
       "  </thead>\n",
       "  <tbody>\n",
       "    <tr>\n",
       "      <th>count</th>\n",
       "      <td>60816.000000</td>\n",
       "      <td>60816.000000</td>\n",
       "      <td>60816.000000</td>\n",
       "      <td>60816.000000</td>\n",
       "      <td>60816.000000</td>\n",
       "      <td>60816.000000</td>\n",
       "      <td>60816.000000</td>\n",
       "      <td>60816.000000</td>\n",
       "      <td>60816.000000</td>\n",
       "      <td>60816.000000</td>\n",
       "      <td>...</td>\n",
       "      <td>60816.000000</td>\n",
       "      <td>60816.000000</td>\n",
       "      <td>60816.000000</td>\n",
       "      <td>60816.000000</td>\n",
       "      <td>60816.000000</td>\n",
       "      <td>60816.000000</td>\n",
       "      <td>60816.000000</td>\n",
       "      <td>60816.000000</td>\n",
       "      <td>60816.000000</td>\n",
       "      <td>60816.000000</td>\n",
       "    </tr>\n",
       "    <tr>\n",
       "      <th>mean</th>\n",
       "      <td>0.998154</td>\n",
       "      <td>0.281982</td>\n",
       "      <td>0.000423</td>\n",
       "      <td>0.007185</td>\n",
       "      <td>0.005623</td>\n",
       "      <td>0.000427</td>\n",
       "      <td>0.000563</td>\n",
       "      <td>0.000066</td>\n",
       "      <td>0.000090</td>\n",
       "      <td>0.000359</td>\n",
       "      <td>...</td>\n",
       "      <td>0.000032</td>\n",
       "      <td>0.000155</td>\n",
       "      <td>0.000095</td>\n",
       "      <td>0.000087</td>\n",
       "      <td>0.000093</td>\n",
       "      <td>0.000192</td>\n",
       "      <td>0.000075</td>\n",
       "      <td>0.000163</td>\n",
       "      <td>0.000126</td>\n",
       "      <td>0.005087</td>\n",
       "    </tr>\n",
       "    <tr>\n",
       "      <th>std</th>\n",
       "      <td>0.040101</td>\n",
       "      <td>0.129279</td>\n",
       "      <td>0.008164</td>\n",
       "      <td>0.033559</td>\n",
       "      <td>0.025704</td>\n",
       "      <td>0.010913</td>\n",
       "      <td>0.012890</td>\n",
       "      <td>0.004979</td>\n",
       "      <td>0.005759</td>\n",
       "      <td>0.010297</td>\n",
       "      <td>...</td>\n",
       "      <td>0.004862</td>\n",
       "      <td>0.008942</td>\n",
       "      <td>0.007395</td>\n",
       "      <td>0.005825</td>\n",
       "      <td>0.005956</td>\n",
       "      <td>0.009239</td>\n",
       "      <td>0.005863</td>\n",
       "      <td>0.007638</td>\n",
       "      <td>0.006207</td>\n",
       "      <td>0.008482</td>\n",
       "    </tr>\n",
       "    <tr>\n",
       "      <th>min</th>\n",
       "      <td>0.000000</td>\n",
       "      <td>0.000000</td>\n",
       "      <td>0.000000</td>\n",
       "      <td>0.000000</td>\n",
       "      <td>0.000000</td>\n",
       "      <td>0.000000</td>\n",
       "      <td>0.000000</td>\n",
       "      <td>0.000000</td>\n",
       "      <td>0.000000</td>\n",
       "      <td>0.000000</td>\n",
       "      <td>...</td>\n",
       "      <td>0.000000</td>\n",
       "      <td>0.000000</td>\n",
       "      <td>0.000000</td>\n",
       "      <td>0.000000</td>\n",
       "      <td>0.000000</td>\n",
       "      <td>0.000000</td>\n",
       "      <td>0.000000</td>\n",
       "      <td>0.000000</td>\n",
       "      <td>0.000000</td>\n",
       "      <td>0.000000</td>\n",
       "    </tr>\n",
       "    <tr>\n",
       "      <th>25%</th>\n",
       "      <td>0.999764</td>\n",
       "      <td>0.180000</td>\n",
       "      <td>0.000000</td>\n",
       "      <td>0.000000</td>\n",
       "      <td>0.000000</td>\n",
       "      <td>0.000000</td>\n",
       "      <td>0.000000</td>\n",
       "      <td>0.000000</td>\n",
       "      <td>0.000000</td>\n",
       "      <td>0.000000</td>\n",
       "      <td>...</td>\n",
       "      <td>0.000000</td>\n",
       "      <td>0.000000</td>\n",
       "      <td>0.000000</td>\n",
       "      <td>0.000000</td>\n",
       "      <td>0.000000</td>\n",
       "      <td>0.000000</td>\n",
       "      <td>0.000000</td>\n",
       "      <td>0.000000</td>\n",
       "      <td>0.000000</td>\n",
       "      <td>0.002838</td>\n",
       "    </tr>\n",
       "    <tr>\n",
       "      <th>50%</th>\n",
       "      <td>0.999764</td>\n",
       "      <td>0.230000</td>\n",
       "      <td>0.000000</td>\n",
       "      <td>0.000000</td>\n",
       "      <td>0.000000</td>\n",
       "      <td>0.000000</td>\n",
       "      <td>0.000000</td>\n",
       "      <td>0.000000</td>\n",
       "      <td>0.000000</td>\n",
       "      <td>0.000000</td>\n",
       "      <td>...</td>\n",
       "      <td>0.000000</td>\n",
       "      <td>0.000000</td>\n",
       "      <td>0.000000</td>\n",
       "      <td>0.000000</td>\n",
       "      <td>0.000000</td>\n",
       "      <td>0.000000</td>\n",
       "      <td>0.000000</td>\n",
       "      <td>0.000000</td>\n",
       "      <td>0.000000</td>\n",
       "      <td>0.004594</td>\n",
       "    </tr>\n",
       "    <tr>\n",
       "      <th>75%</th>\n",
       "      <td>0.999764</td>\n",
       "      <td>0.340000</td>\n",
       "      <td>0.000000</td>\n",
       "      <td>0.000000</td>\n",
       "      <td>0.000000</td>\n",
       "      <td>0.000000</td>\n",
       "      <td>0.000000</td>\n",
       "      <td>0.000000</td>\n",
       "      <td>0.000000</td>\n",
       "      <td>0.000000</td>\n",
       "      <td>...</td>\n",
       "      <td>0.000000</td>\n",
       "      <td>0.000000</td>\n",
       "      <td>0.000000</td>\n",
       "      <td>0.000000</td>\n",
       "      <td>0.000000</td>\n",
       "      <td>0.000000</td>\n",
       "      <td>0.000000</td>\n",
       "      <td>0.000000</td>\n",
       "      <td>0.000000</td>\n",
       "      <td>0.005146</td>\n",
       "    </tr>\n",
       "    <tr>\n",
       "      <th>max</th>\n",
       "      <td>1.000000</td>\n",
       "      <td>1.000000</td>\n",
       "      <td>1.000000</td>\n",
       "      <td>1.000000</td>\n",
       "      <td>1.000000</td>\n",
       "      <td>1.000000</td>\n",
       "      <td>1.000000</td>\n",
       "      <td>1.000000</td>\n",
       "      <td>1.000000</td>\n",
       "      <td>1.000000</td>\n",
       "      <td>...</td>\n",
       "      <td>1.000000</td>\n",
       "      <td>1.000000</td>\n",
       "      <td>1.000000</td>\n",
       "      <td>1.000000</td>\n",
       "      <td>1.000000</td>\n",
       "      <td>1.000000</td>\n",
       "      <td>1.000000</td>\n",
       "      <td>1.000000</td>\n",
       "      <td>1.000000</td>\n",
       "      <td>1.000000</td>\n",
       "    </tr>\n",
       "  </tbody>\n",
       "</table>\n",
       "<p>8 rows × 306 columns</p>\n",
       "</div>"
      ],
      "text/plain": [
       "               var3         var15  imp_ent_var16_ult1  \\\n",
       "count  60816.000000  60816.000000        60816.000000   \n",
       "mean       0.998154      0.281982            0.000423   \n",
       "std        0.040101      0.129279            0.008164   \n",
       "min        0.000000      0.000000            0.000000   \n",
       "25%        0.999764      0.180000            0.000000   \n",
       "50%        0.999764      0.230000            0.000000   \n",
       "75%        0.999764      0.340000            0.000000   \n",
       "max        1.000000      1.000000            1.000000   \n",
       "\n",
       "       imp_op_var39_comer_ult1  imp_op_var39_comer_ult3  \\\n",
       "count             60816.000000             60816.000000   \n",
       "mean                  0.007185                 0.005623   \n",
       "std                   0.033559                 0.025704   \n",
       "min                   0.000000                 0.000000   \n",
       "25%                   0.000000                 0.000000   \n",
       "50%                   0.000000                 0.000000   \n",
       "75%                   0.000000                 0.000000   \n",
       "max                   1.000000                 1.000000   \n",
       "\n",
       "       imp_op_var40_comer_ult1  imp_op_var40_comer_ult3  \\\n",
       "count             60816.000000             60816.000000   \n",
       "mean                  0.000427                 0.000563   \n",
       "std                   0.010913                 0.012890   \n",
       "min                   0.000000                 0.000000   \n",
       "25%                   0.000000                 0.000000   \n",
       "50%                   0.000000                 0.000000   \n",
       "75%                   0.000000                 0.000000   \n",
       "max                   1.000000                 1.000000   \n",
       "\n",
       "       imp_op_var40_efect_ult1  imp_op_var40_efect_ult3  imp_op_var40_ult1  \\\n",
       "count             60816.000000             60816.000000       60816.000000   \n",
       "mean                  0.000066                 0.000090           0.000359   \n",
       "std                   0.004979                 0.005759           0.010297   \n",
       "min                   0.000000                 0.000000           0.000000   \n",
       "25%                   0.000000                 0.000000           0.000000   \n",
       "50%                   0.000000                 0.000000           0.000000   \n",
       "75%                   0.000000                 0.000000           0.000000   \n",
       "max                   1.000000                 1.000000           1.000000   \n",
       "\n",
       "           ...       saldo_medio_var29_ult3  saldo_medio_var33_hace2  \\\n",
       "count      ...                 60816.000000             60816.000000   \n",
       "mean       ...                     0.000032                 0.000155   \n",
       "std        ...                     0.004862                 0.008942   \n",
       "min        ...                     0.000000                 0.000000   \n",
       "25%        ...                     0.000000                 0.000000   \n",
       "50%        ...                     0.000000                 0.000000   \n",
       "75%        ...                     0.000000                 0.000000   \n",
       "max        ...                     1.000000                 1.000000   \n",
       "\n",
       "       saldo_medio_var33_hace3  saldo_medio_var33_ult1  \\\n",
       "count             60816.000000            60816.000000   \n",
       "mean                  0.000095                0.000087   \n",
       "std                   0.007395                0.005825   \n",
       "min                   0.000000                0.000000   \n",
       "25%                   0.000000                0.000000   \n",
       "50%                   0.000000                0.000000   \n",
       "75%                   0.000000                0.000000   \n",
       "max                   1.000000                1.000000   \n",
       "\n",
       "       saldo_medio_var33_ult3  saldo_medio_var44_hace2  \\\n",
       "count            60816.000000             60816.000000   \n",
       "mean                 0.000093                 0.000192   \n",
       "std                  0.005956                 0.009239   \n",
       "min                  0.000000                 0.000000   \n",
       "25%                  0.000000                 0.000000   \n",
       "50%                  0.000000                 0.000000   \n",
       "75%                  0.000000                 0.000000   \n",
       "max                  1.000000                 1.000000   \n",
       "\n",
       "       saldo_medio_var44_hace3  saldo_medio_var44_ult1  \\\n",
       "count             60816.000000            60816.000000   \n",
       "mean                  0.000075                0.000163   \n",
       "std                   0.005863                0.007638   \n",
       "min                   0.000000                0.000000   \n",
       "25%                   0.000000                0.000000   \n",
       "50%                   0.000000                0.000000   \n",
       "75%                   0.000000                0.000000   \n",
       "max                   1.000000                1.000000   \n",
       "\n",
       "       saldo_medio_var44_ult3         var38  \n",
       "count            60816.000000  60816.000000  \n",
       "mean                 0.000126      0.005087  \n",
       "std                  0.006207      0.008482  \n",
       "min                  0.000000      0.000000  \n",
       "25%                  0.000000      0.002838  \n",
       "50%                  0.000000      0.004594  \n",
       "75%                  0.000000      0.005146  \n",
       "max                  1.000000      1.000000  \n",
       "\n",
       "[8 rows x 306 columns]"
      ]
     },
     "metadata": {},
     "output_type": "display_data"
    }
   ],
   "source": [
    "#Normalize X_train Datasets to range (0,1)\n",
    "mms = MinMaxScaler()\n",
    "X_all_norm = pd.DataFrame(mms.fit_transform(X_all),columns=X_all.columns)\n",
    "X_train_norm = pd.DataFrame(mms.fit_transform(X_train),columns=X_train.columns)\n",
    "X_test_norm = pd.DataFrame(mms.fit_transform(X_test),columns=X_test.columns)\n",
    "kaggle_test_norm = pd.DataFrame(mms.fit_transform(kaggle_test),columns=kaggle_test.columns)\n",
    "display(X_train_norm.describe())"
   ]
  },
  {
   "cell_type": "markdown",
   "metadata": {
    "deletable": true,
    "editable": true
   },
   "source": [
    "### 4. Feature Selection"
   ]
  },
  {
   "cell_type": "code",
   "execution_count": 23,
   "metadata": {
    "collapsed": false,
    "deletable": true,
    "editable": true
   },
   "outputs": [
    {
     "name": "stdout",
     "output_type": "stream",
     "text": [
      " 1) var38                          0.301594\n",
      " 2) var15                          0.190290\n",
      " 3) saldo_medio_var5_ult3          0.029027\n",
      " 4) num_var45_ult3                 0.020695\n",
      " 5) saldo_medio_var5_hace2         0.020666\n",
      " 6) saldo_medio_var5_hace3         0.019907\n",
      " 7) saldo_medio_var5_ult1          0.019197\n",
      " 8) saldo_var30                    0.018550\n",
      " 9) saldo_var5                     0.018327\n",
      "10) num_var45_hace3                0.016922\n",
      "11) num_var22_ult3                 0.015980\n",
      "12) saldo_var42                    0.015750\n",
      "13) num_var45_hace2                0.015178\n",
      "14) num_meses_var5_ult3            0.011709\n",
      "15) var36                          0.010956\n",
      "16) num_var45_ult1                 0.010908\n",
      "17) num_med_var45_ult3             0.010559\n",
      "18) num_var22_hace3                0.010424\n",
      "19) num_var22_hace2                0.009931\n",
      "20) num_meses_var39_vig_ult3       0.009801\n",
      "21) num_var30                      0.007875\n",
      "22) num_var22_ult1                 0.007857\n",
      "23) num_var35                      0.007053\n",
      "24) ind_var30                      0.007020\n",
      "25) num_var4                       0.006014\n",
      "26) num_med_var22_ult3             0.005921\n",
      "27) imp_op_var41_ult1              0.005172\n",
      "28) imp_op_var39_ult1              0.005089\n",
      "29) ind_var5                       0.004929\n",
      "30) imp_op_var41_comer_ult3        0.004781\n",
      "31) imp_op_var39_comer_ult3        0.004515\n",
      "32) imp_op_var41_efect_ult3        0.004477\n",
      "33) imp_op_var39_efect_ult3        0.004475\n",
      "34) num_var42                      0.004198\n",
      "35) imp_trans_var37_ult1           0.004194\n",
      "36) imp_op_var39_comer_ult1        0.003857\n",
      "37) num_op_var41_ult3              0.003787\n",
      "38) imp_op_var41_comer_ult1        0.003637\n",
      "39) saldo_var37                    0.003514\n",
      "40) num_op_var39_ult3              0.003477\n",
      "41) var3                           0.003419\n",
      "42) imp_op_var39_efect_ult1        0.003393\n",
      "43) num_var39_0                    0.003292\n",
      "44) num_op_var39_comer_ult3        0.003175\n",
      "45) imp_op_var41_efect_ult1        0.003085\n",
      "46) num_op_var39_efect_ult3        0.003055\n",
      "47) num_op_var41_comer_ult3        0.003054\n",
      "48) num_var5                       0.002979\n",
      "49) num_op_var39_ult1              0.002965\n",
      "50) imp_ent_var16_ult1             0.002932\n",
      "51) num_op_var41_hace2             0.002884\n",
      "52) num_op_var39_hace2             0.002703\n",
      "53) num_op_var41_ult1              0.002648\n",
      "54) num_var43_recib_ult1           0.002635\n",
      "55) num_op_var41_efect_ult3        0.002581\n",
      "56) imp_var43_emit_ult1            0.002559\n",
      "57) num_op_var39_comer_ult1        0.002472\n",
      "58) ind_var39_0                    0.002458\n",
      "59) num_op_var41_comer_ult1        0.002384\n",
      "60) saldo_medio_var8_ult3          0.002238\n",
      "61) num_var43_emit_ult1            0.002064\n",
      "62) num_var30_0                    0.002063\n",
      "63) num_var5_0                     0.002041\n",
      "64) num_ent_var16_ult1             0.001999\n",
      "65) saldo_medio_var8_ult1          0.001913\n",
      "66) num_op_var39_efect_ult1        0.001893\n",
      "67) num_var37_0                    0.001893\n",
      "68) num_op_var41_efect_ult1        0.001870\n",
      "69) num_var37_med_ult2             0.001600\n",
      "70) ind_var5_0                     0.001578\n",
      "71) ind_var43_recib_ult1           0.001506\n",
      "72) num_var42_0                    0.001490\n",
      "73) ind_var12_0                    0.001223\n",
      "74) saldo_var25                    0.001184\n",
      "75) saldo_medio_var12_ult1         0.001170\n",
      "76) saldo_var26                    0.001126\n",
      "77) ind_var43_emit_ult1            0.001114\n",
      "78) num_var12_0                    0.001049\n",
      "79) ind_var9_cte_ult1              0.001029\n",
      "80) saldo_var12                    0.001002\n",
      "81) saldo_medio_var8_hace2         0.000991\n",
      "82) ind_var37_cte                  0.000950\n",
      "83) saldo_medio_var12_ult3         0.000925\n",
      "84) saldo_medio_var12_hace2        0.000910\n",
      "85) ind_var10cte_ult1              0.000881\n",
      "86) ind_var13                      0.000865\n",
      "87) saldo_medio_var13_corto_ult3   0.000848\n",
      "88) saldo_medio_var13_corto_ult1   0.000845\n",
      "89) ind_var37_0                    0.000844\n",
      "90) ind_var9_ult1                  0.000836\n",
      "91) num_meses_var8_ult3            0.000791\n",
      "92) num_var13                      0.000776\n",
      "93) ind_var10_ult1                 0.000769\n",
      "94) saldo_medio_var13_corto_hace2  0.000740\n",
      "95) saldo_var13_corto              0.000700\n",
      "96) num_var13_0                    0.000677\n",
      "97) saldo_var24                    0.000663\n",
      "98) num_var24_0                    0.000590\n",
      "99) num_trasp_var11_ult1           0.000588\n",
      "100) num_op_var39_hace3             0.000563\n",
      "101) num_meses_var12_ult3           0.000562\n",
      "102) num_op_var41_hace3             0.000522\n",
      "103) saldo_medio_var8_hace3         0.000518\n",
      "104) ind_var13_corto                0.000467\n",
      "105) ind_var13_corto_0              0.000450\n",
      "106) imp_var7_recib_ult1            0.000448\n",
      "107) num_meses_var13_corto_ult3     0.000431\n",
      "108) num_var12                      0.000429\n",
      "109) num_var26_0                    0.000420\n",
      "110) ind_var24_0                    0.000402\n",
      "111) ind_var13_0                    0.000401\n",
      "112) num_var25_0                    0.000373\n",
      "113) ind_var25_cte                  0.000368\n",
      "114) ind_var30_0                    0.000339\n",
      "115) num_var24                      0.000337\n",
      "116) num_var7_recib_ult1            0.000324\n",
      "117) ind_var14_0                    0.000315\n",
      "118) num_var8                       0.000311\n",
      "119) ind_var12                      0.000300\n",
      "120) var21                          0.000300\n",
      "121) num_var14_0                    0.000297\n",
      "122) ind_var24                      0.000289\n",
      "123) num_aport_var13_hace3          0.000287\n",
      "124) imp_aport_var13_hace3          0.000286\n",
      "125) ind_var25_0                    0.000278\n",
      "126) num_var40_0                    0.000276\n",
      "127) ind_var26_0                    0.000274\n",
      "128) ind_var7_recib_ult1            0.000267\n",
      "129) num_var13_corto                0.000258\n",
      "130) num_var13_corto_0              0.000257\n",
      "131) ind_var8                       0.000250\n",
      "132) num_var1_0                     0.000240\n",
      "133) ind_var26                      0.000230\n",
      "134) ind_var1_0                     0.000217\n",
      "135) ind_var40_0                    0.000208\n",
      "136) saldo_medio_var12_hace3        0.000201\n",
      "137) imp_sal_var16_ult1             0.000195\n",
      "138) saldo_var1                     0.000182\n",
      "139) saldo_var40                    0.000181\n",
      "140) saldo_var14                    0.000179\n",
      "141) saldo_medio_var13_corto_hace3  0.000167\n",
      "142) num_op_var40_comer_ult3        0.000165\n",
      "143) ind_var20_0                    0.000150\n",
      "144) ind_var13_largo_0              0.000143\n",
      "145) num_sal_var16_ult1             0.000143\n",
      "146) saldo_var13_largo              0.000142\n",
      "147) num_op_var40_ult3              0.000132\n",
      "148) num_var14                      0.000129\n",
      "149) ind_var32_cte                  0.000122\n",
      "150) num_var13_largo                0.000120\n",
      "151) num_op_var40_ult1              0.000119\n",
      "152) num_var31_0                    0.000118\n",
      "153) imp_aport_var13_ult1           0.000113\n",
      "154) imp_op_var40_comer_ult3        0.000112\n",
      "155) imp_op_var40_comer_ult1        0.000105\n",
      "156) imp_op_var40_efect_ult1        0.000104\n",
      "157) num_var17_0                    0.000102\n",
      "158) num_var20_0                    0.000099\n",
      "159) imp_op_var40_ult1              0.000094\n",
      "160) ind_var19                      0.000094\n",
      "161) num_aport_var13_ult1           0.000093\n",
      "162) saldo_var44                    0.000093\n",
      "163) imp_op_var40_efect_ult3        0.000090\n",
      "164) num_var13_largo_0              0.000084\n",
      "165) delta_imp_aport_var13_1y3      0.000084\n",
      "166) saldo_medio_var44_ult1         0.000083\n",
      "167) num_var31                      0.000080\n",
      "168) num_op_var40_efect_ult3        0.000078\n",
      "169) imp_compra_var44_ult1          0.000075\n",
      "170) ind_var14                      0.000073\n",
      "171) num_var1                       0.000071\n",
      "172) saldo_medio_var17_ult1         0.000070\n",
      "173) saldo_var31                    0.000070\n",
      "174) saldo_medio_var13_largo_ult1   0.000069\n",
      "175) ind_var31_0                    0.000068\n",
      "176) ind_var39                      0.000068\n",
      "177) num_op_var40_comer_ult1        0.000067\n",
      "178) saldo_var32                    0.000067\n",
      "179) saldo_medio_var17_ult3         0.000065\n",
      "180) num_var39                      0.000065\n",
      "181) num_var32_0                    0.000063\n",
      "182) num_var40                      0.000061\n",
      "183) delta_num_aport_var13_1y3      0.000061\n",
      "184) ind_var13_largo                0.000061\n",
      "185) saldo_medio_var44_ult3         0.000055\n",
      "186) ind_var40                      0.000055\n",
      "187) imp_reemb_var13_ult1           0.000051\n",
      "188) ind_var1                       0.000049\n",
      "189) num_op_var40_efect_ult1        0.000049\n",
      "190) num_var17                      0.000048\n",
      "191) num_aport_var17_ult1           0.000045\n",
      "192) ind_var32_0                    0.000045\n",
      "193) ind_var31                      0.000042\n",
      "194) saldo_medio_var13_largo_ult3   0.000042\n",
      "195) num_meses_var17_ult3           0.000038\n",
      "196) delta_imp_compra_var44_1y3     0.000037\n",
      "197) imp_aport_var17_ult1           0.000035\n",
      "198) num_meses_var13_largo_ult3     0.000033\n",
      "199) saldo_var17                    0.000031\n",
      "200) num_op_var40_hace2             0.000031\n",
      "201) imp_reemb_var17_ult1           0.000030\n",
      "202) num_compra_var44_ult1          0.000029\n",
      "203) delta_num_compra_var44_1y3     0.000029\n",
      "204) ind_var44_0                    0.000029\n",
      "205) num_reemb_var17_ult1           0.000027\n",
      "206) ind_var17                      0.000026\n",
      "207) num_var44_0                    0.000026\n",
      "208) ind_var17_0                    0.000024\n",
      "209) delta_num_reemb_var17_1y3      0.000024\n",
      "210) num_meses_var44_ult3           0.000023\n",
      "211) saldo_medio_var13_largo_hace3  0.000023\n",
      "212) ind_var20                      0.000020\n",
      "213) saldo_medio_var13_largo_hace2  0.000019\n",
      "214) num_reemb_var13_ult1           0.000017\n",
      "215) delta_num_aport_var17_1y3      0.000017\n",
      "216) saldo_var20                    0.000017\n",
      "217) delta_num_reemb_var13_1y3      0.000016\n",
      "218) saldo_medio_var44_hace2        0.000016\n",
      "219) delta_imp_reemb_var13_1y3      0.000015\n",
      "220) num_var44                      0.000012\n",
      "221) ind_var44                      0.000009\n",
      "222) delta_imp_aport_var17_1y3      0.000009\n",
      "223) num_var20                      0.000009\n",
      "224) saldo_medio_var17_hace2        0.000008\n",
      "225) ind_var33_0                    0.000007\n",
      "226) ind_var33                      0.000007\n",
      "227) num_var33_0                    0.000007\n",
      "228) num_var33                      0.000005\n",
      "229) delta_num_venta_var44_1y3      0.000004\n",
      "230) num_venta_var44_ult1           0.000003\n",
      "231) num_meses_var33_ult3           0.000003\n",
      "232) imp_aport_var33_hace3          0.000003\n",
      "233) saldo_medio_var33_hace2        0.000003\n",
      "234) imp_compra_var44_hace3         0.000003\n",
      "235) num_aport_var17_hace3          0.000002\n",
      "236) saldo_medio_var44_hace3        0.000002\n",
      "237) saldo_medio_var29_ult3         0.000002\n",
      "238) saldo_var33                    0.000002\n",
      "239) saldo_medio_var33_ult3         0.000001\n",
      "240) num_compra_var44_hace3         0.000001\n",
      "241) imp_trasp_var17_in_ult1        0.000001\n",
      "242) saldo_medio_var33_ult1         0.000001\n",
      "243) num_meses_var29_ult3           0.000001\n",
      "244) num_var7_emit_ult1             0.000001\n",
      "245) num_aport_var33_hace3          0.000001\n",
      "246) imp_venta_var44_ult1           0.000000\n",
      "247) num_aport_var33_ult1           0.000000\n",
      "248) imp_aport_var17_hace3          0.000000\n",
      "249) imp_venta_var44_hace3          0.000000\n",
      "250) imp_trasp_var17_out_ult1       0.000000\n",
      "251) delta_num_trasp_var17_out_1y3  0.000000\n",
      "252) num_trasp_var17_out_ult1       0.000000\n",
      "253) num_var29                      0.000000\n",
      "254) saldo_var18                    0.000000\n",
      "255) ind_var6_0                     0.000000\n",
      "256) delta_imp_aport_var33_1y3      0.000000\n",
      "257) num_trasp_var33_in_hace3       0.000000\n",
      "258) saldo_var34                    0.000000\n",
      "259) saldo_medio_var29_hace3        0.000000\n",
      "260) ind_var13_medio_0              0.000000\n",
      "261) num_trasp_var17_in_ult1        0.000000\n",
      "262) saldo_medio_var29_ult1         0.000000\n",
      "263) num_trasp_var17_in_hace3       0.000000\n",
      "264) num_trasp_var33_out_ult1       0.000000\n",
      "265) delta_imp_amort_var34_1y3      0.000000\n",
      "266) saldo_medio_var33_hace3        0.000000\n",
      "267) num_venta_var44_hace3          0.000000\n",
      "268) num_reemb_var33_ult1           0.000000\n",
      "269) num_reemb_var17_hace3          0.000000\n",
      "270) num_trasp_var33_in_ult1        0.000000\n",
      "271) delta_num_trasp_var33_out_1y3  0.000000\n",
      "272) ind_var18_0                    0.000000\n",
      "273) saldo_medio_var17_hace3        0.000000\n",
      "274) num_op_var40_hace3             0.000000\n",
      "275) delta_num_reemb_var33_1y3      0.000000\n",
      "276) delta_num_trasp_var17_in_1y3   0.000000\n",
      "277) imp_var7_emit_ult1             0.000000\n",
      "278) saldo_var6                     0.000000\n",
      "279) imp_aport_var33_ult1           0.000000\n",
      "280) num_var29_0                    0.000000\n",
      "281) imp_reemb_var33_ult1           0.000000\n",
      "282) saldo_medio_var13_medio_hace2  0.000000\n",
      "283) delta_num_trasp_var33_in_1y3   0.000000\n",
      "284) num_var34_0                    0.000000\n",
      "285) saldo_medio_var13_medio_ult3   0.000000\n",
      "286) imp_amort_var34_ult1           0.000000\n",
      "287) imp_amort_var18_ult1           0.000000\n",
      "288) imp_reemb_var17_hace3          0.000000\n",
      "289) saldo_var13_medio              0.000000\n",
      "290) num_meses_var13_medio_ult3     0.000000\n",
      "291) delta_num_aport_var33_1y3      0.000000\n",
      "292) ind_var29_0                    0.000000\n",
      "293) ind_var29                      0.000000\n",
      "294) saldo_medio_var29_hace2        0.000000\n",
      "295) saldo_var29                    0.000000\n",
      "296) ind_var34_0                    0.000000\n",
      "297) saldo_medio_var13_medio_ult1   0.000000\n",
      "298) ind_var7_emit_ult1             0.000000\n",
      "299) num_var18_0                    0.000000\n",
      "300) num_var6_0                     0.000000\n",
      "301) imp_trasp_var33_out_ult1       0.000000\n",
      "302) imp_trasp_var33_in_ult1        0.000000\n",
      "303) imp_trasp_var33_in_hace3       0.000000\n",
      "304) num_var13_medio_0              0.000000\n",
      "305) imp_trasp_var17_in_hace3       0.000000\n",
      "306) delta_imp_amort_var18_1y3      0.000000\n",
      "total importance for first 50 features:  0.909560658303\n"
     ]
    }
   ],
   "source": [
    "#Ramdom Forest Classifier to find out the top important features\n",
    "feat_labels = X_train.columns\n",
    "forest = RandomForestClassifier(n_estimators=130,criterion=\"entropy\",random_state=0,n_jobs=-1)\n",
    "forest.fit(X_train_norm,y_train)\n",
    "importances = forest.feature_importances_\n",
    "indices = np.argsort(importances)[::-1] #argsort return the indices that sort the array\n",
    "total_importance_first_50 = 0\n",
    "for f in range(X_train.shape[1]):\n",
    "    print(\"%2d) %-*s %f\" % (f + 1, 30, feat_labels[indices[f]], importances[indices[f]]))\n",
    "    \n",
    "    if f<=49:\n",
    "        total_importance_first_50 += importances[indices[f]]\n",
    "    \n",
    "print \"total importance for first 50 features: \", total_importance_first_50"
   ]
  },
  {
   "cell_type": "code",
   "execution_count": 24,
   "metadata": {
    "collapsed": false,
    "deletable": true,
    "editable": true
   },
   "outputs": [
    {
     "name": "stdout",
     "output_type": "stream",
     "text": [
      "0.909560658303\n"
     ]
    }
   ],
   "source": [
    "print total_importance_first_50"
   ]
  },
  {
   "cell_type": "code",
   "execution_count": 25,
   "metadata": {
    "collapsed": false,
    "deletable": true,
    "editable": true
   },
   "outputs": [
    {
     "data": {
      "image/png": "[encoded data removed]",
      "text/plain": [
       "<matplotlib.figure.Figure at 0x1852fba8>"
      ]
     },
     "metadata": {},
     "output_type": "display_data"
    }
   ],
   "source": [
    "Eigen_value = pd.Series(importances,index=X_train.columns.values).sort_values(ascending=False)\n",
    "cum_Eigen_value = np.cumsum(Eigen_value)\n",
    "\n",
    "#print Features\n",
    "#Feature Importance Visualization\n",
    "#plt.figure(size=(30,30))\n",
    "plt.figure(figsize=(12,8))\n",
    "plt.bar(range(1,16),Eigen_value[:15], alpha=0.5,align='center',label='individual feature eigen value')\n",
    "plt.step(range(1,16), cum_Eigen_value[:15], where='mid',label='cumulative eigen value')\n",
    "plt.xticks(range(1,16),Eigen_value.index[:15], rotation=90)\n",
    "plt.ylabel('feature eigen value',fontsize=15)\n",
    "plt.xlabel('feature',fontsize=15)\n",
    "plt.legend(loc='best',fontsize=15)\n",
    "plt.show()"
   ]
  },
  {
   "cell_type": "markdown",
   "metadata": {
    "deletable": true,
    "editable": true
   },
   "source": [
    "#### sklearn SelectFromModel is a meta-transformer that can be used along with any estimator that has a coef_ or feature_importances_ attribute after fitting. The features are considered unimportant and removed, if the corresponding coef_ or feature_importances_ values are below the provided threshold parameter. "
   ]
  },
  {
   "cell_type": "code",
   "execution_count": 26,
   "metadata": {
    "collapsed": false,
    "deletable": true,
    "editable": true
   },
   "outputs": [
    {
     "name": "stdout",
     "output_type": "stream",
     "text": [
      "<type 'numpy.ndarray'>\n",
      "<type 'numpy.ndarray'>\n",
      "<type 'numpy.ndarray'>\n",
      "           Selected Features\n",
      "0                       var3\n",
      "1                      var15\n",
      "2    imp_op_var39_comer_ult1\n",
      "3    imp_op_var39_comer_ult3\n",
      "4    imp_op_var41_comer_ult1\n",
      "5    imp_op_var41_comer_ult3\n",
      "6    imp_op_var41_efect_ult3\n",
      "7          imp_op_var41_ult1\n",
      "8    imp_op_var39_efect_ult1\n",
      "9    imp_op_var39_efect_ult3\n",
      "10         imp_op_var39_ult1\n",
      "11                  ind_var5\n",
      "12                 ind_var30\n",
      "13                  num_var4\n",
      "14         num_op_var41_ult3\n",
      "15         num_op_var39_ult3\n",
      "16                 num_var30\n",
      "17                 num_var35\n",
      "18               num_var39_0\n",
      "19                 num_var42\n",
      "20                saldo_var5\n",
      "21               saldo_var30\n",
      "22               saldo_var37\n",
      "23               saldo_var42\n",
      "24                     var36\n",
      "25      imp_trans_var37_ult1\n",
      "26           num_var22_hace2\n",
      "27           num_var22_hace3\n",
      "28            num_var22_ult1\n",
      "29            num_var22_ult3\n",
      "30        num_med_var22_ult3\n",
      "31        num_med_var45_ult3\n",
      "32       num_meses_var5_ult3\n",
      "33  num_meses_var39_vig_ult3\n",
      "34           num_var45_hace2\n",
      "35           num_var45_hace3\n",
      "36            num_var45_ult1\n",
      "37            num_var45_ult3\n",
      "38    saldo_medio_var5_hace2\n",
      "39    saldo_medio_var5_hace3\n",
      "40     saldo_medio_var5_ult1\n",
      "41     saldo_medio_var5_ult3\n",
      "42                     var38\n"
     ]
    }
   ],
   "source": [
    "featSelected = SelectFromModel(forest, prefit=True)\n",
    "\n",
    "#get the list of selected features\n",
    "print type(featSelected.get_support())\n",
    "feature_boolean_array = featSelected.get_support()\n",
    "print type(feature_boolean_array)\n",
    "print type(np.array(X_all_norm.columns[feature_boolean_array]))\n",
    "\n",
    "feature_selected = pd.DataFrame(np.array(X_all_norm.columns[feature_boolean_array]),columns=[\"Selected Features\"])\n",
    "print feature_selected"
   ]
  },
  {
   "cell_type": "code",
   "execution_count": 28,
   "metadata": {
    "collapsed": false
   },
   "outputs": [
    {
     "name": "stdout",
     "output_type": "stream",
     "text": [
      "<class 'pandas.core.frame.DataFrame'>\n",
      "<class 'pandas.core.frame.DataFrame'>\n",
      "<class 'pandas.core.frame.DataFrame'>\n",
      "(76020, 306)\n",
      "(60816, 306)\n",
      "(15204, 306)\n",
      "<class 'pandas.core.series.Series'>\n",
      "<class 'pandas.core.series.Series'>\n"
     ]
    }
   ],
   "source": [
    "print type(X_all_norm)\n",
    "print type(X_train_norm)\n",
    "print type(X_test_norm)\n",
    "\n",
    "print X_all_norm.shape\n",
    "print X_train_norm.shape\n",
    "print X_test_norm.shape\n",
    "\n",
    "print type(y_all)\n",
    "print type(y_train)"
   ]
  },
  {
   "cell_type": "code",
   "execution_count": 31,
   "metadata": {
    "collapsed": false
   },
   "outputs": [
    {
     "name": "stdout",
     "output_type": "stream",
     "text": [
      "(76020, 43)\n",
      "<class 'pandas.core.frame.DataFrame'>\n",
      "(76020, 306)\n",
      "<class 'pandas.core.frame.DataFrame'>\n"
     ]
    }
   ],
   "source": [
    "X_all_1 = pd.DataFrame(featSelected.transform(X_all_norm.values))\n",
    "print X_all_1.shape\n",
    "print type(X_all_1)\n",
    "\n",
    "print X_all_norm.shape\n",
    "print type(X_all_norm)"
   ]
  },
  {
   "cell_type": "code",
   "execution_count": 32,
   "metadata": {
    "collapsed": false,
    "deletable": true,
    "editable": true
   },
   "outputs": [],
   "source": [
    "#reduce X based on importance of features\n",
    "X_all_norm = pd.DataFrame(featSelected.transform(X_all_norm.values)) \n",
    "X_train_norm = pd.DataFrame(featSelected.transform(X_train_norm.values)) \n",
    "X_test_norm = pd.DataFrame(featSelected.transform(X_test_norm.values))\n",
    "kaggle_test_norm = pd.DataFrame(featSelected.transform(kaggle_test_norm.values))"
   ]
  },
  {
   "cell_type": "code",
   "execution_count": 34,
   "metadata": {
    "collapsed": false,
    "deletable": true,
    "editable": true
   },
   "outputs": [
    {
     "name": "stdout",
     "output_type": "stream",
     "text": [
      "(76020, 306)\n",
      "(76020, 43)\n",
      "(60816, 306)\n",
      "(60816, 43)\n",
      "(15204, 43)\n",
      "(75818, 43)\n",
      "\n",
      "target train shape:  (60816L,)\n",
      "target test shape:  (15204L,)\n",
      "<class 'pandas.core.frame.DataFrame'>\n",
      "<class 'pandas.core.frame.DataFrame'>\n"
     ]
    }
   ],
   "source": [
    "print X_all.shape\n",
    "print X_all_norm.shape\n",
    "print X_train.shape\n",
    "print X_train_norm.shape\n",
    "print X_test_norm.shape\n",
    "print kaggle_test_norm.shape\n",
    "\n",
    "print \"\\ntarget train shape: \", y_train.shape\n",
    "print \"target test shape: \", y_test.shape\n",
    "\n",
    "print type(X_all_norm)\n",
    "print type(X_train)"
   ]
  },
  {
   "cell_type": "code",
   "execution_count": 36,
   "metadata": {
    "collapsed": false,
    "deletable": true,
    "editable": true
   },
   "outputs": [
    {
     "name": "stdout",
     "output_type": "stream",
     "text": [
      " 1) ['var38']                      0.308831\n",
      " 2) ['var15']                      0.197440\n",
      " 3) ['saldo_medio_var5_ult3']      0.035935\n",
      " 4) ['saldo_var30']                0.027221\n",
      " 5) ['saldo_medio_var5_hace2']     0.024785\n",
      " 6) ['saldo_medio_var5_hace3']     0.023989\n",
      " 7) ['num_var45_ult3']             0.023649\n",
      " 8) ['saldo_medio_var5_ult1']      0.021256\n",
      " 9) ['saldo_var42']                0.021222\n",
      "10) ['saldo_var5']                 0.020406\n",
      "11) ['num_var45_hace3']            0.018245\n",
      "12) ['num_var22_ult3']             0.018089\n",
      "13) ['num_var45_hace2']            0.016753\n",
      "14) ['num_meses_var5_ult3']        0.012741\n",
      "15) ['var36']                      0.012519\n",
      "16) ['num_var45_ult1']             0.012358\n",
      "17) ['num_var30']                  0.012313\n",
      "18) ['num_meses_var39_vig_ult3']   0.011657\n",
      "19) ['ind_var30']                  0.011345\n",
      "20) ['num_med_var45_ult3']         0.011050\n",
      "21) ['num_var4']                   0.011046\n",
      "22) ['num_var22_hace3']            0.011035\n",
      "23) ['num_var22_hace2']            0.010671\n",
      "24) ['num_var22_ult1']             0.009037\n",
      "25) ['num_var35']                  0.007797\n",
      "26) ['imp_op_var39_ult1']          0.007166\n",
      "27) ['imp_op_var39_efect_ult3']    0.007129\n",
      "28) ['imp_op_var41_efect_ult3']    0.006981\n",
      "29) ['imp_op_var39_comer_ult3']    0.006977\n",
      "30) ['imp_op_var41_ult1']          0.006821\n",
      "31) ['imp_trans_var37_ult1']       0.006702\n",
      "32) ['num_var39_0']                0.006613\n",
      "33) ['imp_op_var41_comer_ult3']    0.006563\n",
      "34) ['num_op_var41_ult3']          0.006495\n",
      "35) ['num_med_var22_ult3']         0.006136\n",
      "36) ['num_op_var39_ult3']          0.006087\n",
      "37) ['saldo_var37']                0.006033\n",
      "38) ['imp_op_var39_efect_ult1']    0.005664\n",
      "39) ['imp_op_var39_comer_ult1']    0.005560\n",
      "40) ['imp_op_var41_comer_ult1']    0.005515\n",
      "41) ['var3']                       0.004864\n",
      "42) ['num_var42']                  0.004823\n",
      "43) ['ind_var5']                   0.002481\n",
      "total importance for all features:  1.0\n"
     ]
    }
   ],
   "source": [
    "#Plot for features selected after features transformation\n",
    "feat_labels = feature_selected.values\n",
    "forest = RandomForestClassifier(n_estimators=130,criterion=\"entropy\",random_state=0,n_jobs=-1)\n",
    "forest.fit(X_train_norm,y_train)\n",
    "importances = forest.feature_importances_\n",
    "indices = np.argsort(importances)[::-1] #argsort return the indices that sort the array\n",
    "total_importance_first_50 = 0\n",
    "for f in range(X_train_norm.shape[1]):\n",
    "    print(\"%2d) %-*s %f\" % (f + 1, 30, feat_labels[indices[f]], importances[indices[f]]))\n",
    "    \n",
    "    if f<=49:\n",
    "        total_importance_first_50 += importances[indices[f]]\n",
    "    \n",
    "print \"total importance for all features: \", total_importance_first_50"
   ]
  },
  {
   "cell_type": "code",
   "execution_count": 37,
   "metadata": {
    "collapsed": false,
    "deletable": true,
    "editable": true
   },
   "outputs": [
    {
     "data": {
      "image/png": "[encoded data removed]",
      "text/plain": [
       "<matplotlib.figure.Figure at 0x1359f5f8>"
      ]
     },
     "metadata": {},
     "output_type": "display_data"
    }
   ],
   "source": [
    "Eigen_value = pd.Series(importances,index=feat_labels).sort_values(ascending=False)\n",
    "cum_Eigen_value = np.cumsum(Eigen_value)\n",
    "\n",
    "#print Features\n",
    "#Feature Importance Visualization\n",
    "#plt.figure(size=(30,30))\n",
    "plt.figure(figsize=(12,8))\n",
    "plt.bar(range(1,16),Eigen_value[:15], alpha=0.5,align='center',label='individual feature eigen value')\n",
    "plt.step(range(1,16), cum_Eigen_value[:15], where='mid',label='cumulative eigen value')\n",
    "plt.xticks(range(1,16),Eigen_value.index[:15], rotation=90)\n",
    "plt.ylabel('feature eigen value',fontsize=15)\n",
    "plt.xlabel('feature',fontsize=15)\n",
    "plt.legend(loc='best',fontsize=15)\n",
    "plt.show()"
   ]
  },
  {
   "cell_type": "markdown",
   "metadata": {
    "deletable": true,
    "editable": true
   },
   "source": [
    "### 4.Model Selection"
   ]
  },
  {
   "cell_type": "markdown",
   "metadata": {
    "collapsed": true,
    "deletable": true,
    "editable": true
   },
   "source": [
    "### Try different untuned classifiers here and compare the AUC. "
   ]
  },
  {
   "cell_type": "code",
   "execution_count": 22,
   "metadata": {
    "collapsed": true,
    "deletable": true,
    "editable": true
   },
   "outputs": [],
   "source": [
    "\n",
    "def train_predict(clf,X,y):\n",
    "    ''' Train and predict using a classifer based on F1 score. '''\n",
    "    \n",
    "    # Indicate the classifier and the training set size\n",
    "    print \"Training a {} using a training set size of {}. . .\".format(clf.__class__.__name__, len(X))\n",
    "    sys.stdout.flush()\n",
    "    \n",
    "    start = time()\n",
    "    #clf.fit(X,y)\n",
    "    training_score = cross_validation.cross_val_score(clf, X, y, scoring='roc_auc', cv=10)\n",
    "    end = time()\n",
    "    \n",
    "    print \"running time (secs): {}\".format(end - start)\n",
    "    print \"training set score: {}\".format(training_score.mean())\n",
    "    sys.stdout.flush()\n",
    "    \n",
    "    '''\n",
    "    start = time()\n",
    "    y_pred = clf.predict_proba(X_t)\n",
    "    test_score = roc_auc_score(y_t,y_pred[:,1])\n",
    "    end = time()\n",
    "    \n",
    "    print \"prediction time (secs): {}\".format(end - start)\n",
    "    print \"test set score: {}\".format(test_score)\n",
    "    '''\n",
    "    \n",
    "    print \"\\n\"\n",
    "    print \"---------------------------------------------------\"\n",
    "    sys.stdout.flush()\n",
    "    return training_score.mean()"
   ]
  },
  {
   "cell_type": "code",
   "execution_count": 23,
   "metadata": {
    "collapsed": false,
    "deletable": true,
    "editable": true
   },
   "outputs": [
    {
     "name": "stdout",
     "output_type": "stream",
     "text": [
      "Dtree \n",
      "[ 0.          0.34630163  0.34685056  1.        ] \n",
      "[ 0.          0.15555556  0.15555556  1.        ] \n",
      "[ 2.   1.   0.5  0. ]\n",
      "KNN \n",
      "[ 0.          0.00171538  0.00953753  0.03904213  0.14333745  1.        ] \n",
      "[ 0.0015873   0.01269841  0.04920635  0.17460317  0.3968254   1.        ] \n",
      "[ 1.   0.8  0.6  0.4  0.2  0. ]\n",
      "RandomForest \n",
      "[ 0.          0.501784    0.50240154  0.51283107  0.51283107  0.51289968\n",
      "  0.51303692  0.51303692  0.51351722  0.51351722  0.51358584  0.51372307\n",
      "  0.51379168  0.85350624  0.85625086  0.86098532  0.87669823  0.87676685\n",
      "  0.87944284  0.87951146  0.87978592  0.87999177  0.88019761  0.9534788\n",
      "  0.95368464  0.95375326  0.98216001  0.99540277  0.99897077  0.99986277\n",
      "  1.        ] \n",
      "[ 0.          0.36349206  0.36349206  0.37142857  0.37460317  0.37460317\n",
      "  0.37460317  0.37619048  0.37619048  0.37777778  0.37777778  0.37777778\n",
      "  0.37777778  0.70793651  0.71111111  0.71428571  0.73174603  0.73174603\n",
      "  0.73492063  0.73492063  0.73492063  0.73492063  0.73492063  0.86190476\n",
      "  0.86190476  0.86190476  0.94126984  0.97301587  0.99047619  1.          1.        ] \n",
      "[ 2.          1.          0.99487179  0.99483395  0.98201058  0.98108108\n",
      "  0.97777778  0.956298    0.95        0.9457478   0.93333333  0.925\n",
      "  0.91966084  0.9         0.8962963   0.89487179  0.89483395  0.8925\n",
      "  0.89116809  0.875       0.86666667  0.85        0.80666667  0.8\n",
      "  0.7962963   0.79483395  0.7         0.6         0.5         0.4         0.3       ]\n",
      "LogisticReg \n",
      "[  0.00000000e+00   6.86153424e-05   2.33292164e-03 ...,   9.96363387e-01\n",
      "   9.96363387e-01   1.00000000e+00] \n",
      "[ 0.         0.         0.        ...,  0.9984127  1.         1.       ] \n",
      "[  1.66579137e+00   6.65791370e-01   3.42531835e-01 ...,   3.44619506e-03\n",
      "   3.39734710e-03   7.68347389e-05]\n",
      "GBoost \n",
      "[  0.00000000e+00   6.86153424e-05   6.17538082e-04 ...,   9.99656923e-01\n",
      "   9.99725539e-01   1.00000000e+00] \n",
      "[ 0.  0.  0. ...,  1.  1.  1.] \n",
      "[  1.92440199e+00   9.24401995e-01   8.30737384e-01 ...,   1.93830906e-03\n",
      "   1.90623806e-03   1.88322711e-03]\n",
      "GNB \n",
      "[ 0.          0.01886922  0.01900645 ...,  0.97076986  0.98449293  1.        ] \n",
      "[ 0.          0.05079365  0.05079365 ...,  0.9952381   0.9952381   1.        ] \n",
      "[  2.00000000e+000   1.00000000e+000   1.00000000e+000 ...,\n",
      "   4.07407777e-154   4.94065646e-324   0.00000000e+000]\n",
      "Adaboost \n",
      "[  0.00000000e+00   6.86153424e-05   1.37230685e-04 ...,   9.99519693e-01\n",
      "   9.99519693e-01   1.00000000e+00] \n",
      "[ 0.         0.         0.        ...,  0.9984127  1.         1.       ] \n",
      "[ 1.48972827  0.48972827  0.48544457 ...,  0.19054085  0.18900391\n",
      "  0.17730623]\n",
      "Xgboost \n",
      "[  0.00000000e+00   6.86153424e-05   2.74461370e-04 ...,   9.99382462e-01\n",
      "   9.99656923e-01   1.00000000e+00] \n",
      "[ 0.  0.  0. ...,  1.  1.  1.] \n",
      "[ 1.33209085  0.33209091  0.16710094 ...,  0.00189769  0.00189602\n",
      "  0.0017442 ]\n"
     ]
    },
    {
     "data": {
      "text/plain": [
       "<matplotlib.legend.Legend at 0x1b4333c8>"
      ]
     },
     "execution_count": 23,
     "metadata": {},
     "output_type": "execute_result"
    },
    {
     "data": {
      "image/png": "[encoded data removed]",
      "text/plain": [
       "<matplotlib.figure.Figure at 0x1d1b30b8>"
      ]
     },
     "metadata": {},
     "output_type": "display_data"
    }
   ],
   "source": [
    "# Initialize the models\n",
    "Dtree = DecisionTreeClassifier(random_state = 42)\n",
    "KNN = neighbors.KNeighborsClassifier()\n",
    "RandomForest = RandomForestClassifier(random_state = 42)\n",
    "LogisticReg = linear_model.LogisticRegression(random_state = 42)\n",
    "GBoost = GradientBoostingClassifier(random_state = 42)\n",
    "GNB = GaussianNB()\n",
    "Adaboost = AdaBoostClassifier(random_state = 42)\n",
    "Xgboost = xgb.XGBClassifier()\n",
    "\n",
    "\n",
    "clfName = ['Dtree','KNN','RandomForest','LogisticReg','GBoost','GNB','Adaboost','Xgboost']\n",
    "clfList = [Dtree,KNN,RandomForest,LogisticReg,GBoost,GNB,Adaboost,Xgboost]\n",
    "\n",
    "# Plots a ROC Curve of the list of models\n",
    "plt.figure(figsize=(12,8))\n",
    "for i in xrange(len(clfList)):\n",
    "\n",
    "    clfList[i].fit(X_train_norm,y_train)\n",
    "    y_pred = clfList[i].predict_proba(X_test_norm)\n",
    "    if clfList[i] != RandomForest:\n",
    "        fpr, tpr, thresholds = roc_curve(y_test, y_pred[:,1])\n",
    "        print clfName[i],\"\\n\",fpr,\"\\n\",tpr,\"\\n\",thresholds\n",
    "    else:\n",
    "        fpr, tpr, thresholds = roc_curve(y_test, y_pred[:,0])\n",
    "        print clfName[i],\"\\n\",fpr,\"\\n\",tpr,\"\\n\",thresholds\n",
    "\n",
    "    plt.plot(fpr, tpr, label=clfName[i])\n",
    "\n",
    "plt.title(u'ROC CURVE',fontsize = 20)\n",
    "plt.xlabel(u'False positive rate',fontsize = 15)\n",
    "plt.ylabel(u'True positive rate',fontsize = 15)\n",
    "plt.legend(loc=u'best',fontsize = 15)\n",
    "\n"
   ]
  },
  {
   "cell_type": "code",
   "execution_count": 24,
   "metadata": {
    "collapsed": false,
    "deletable": true,
    "editable": true,
    "scrolled": false
   },
   "outputs": [
    {
     "name": "stdout",
     "output_type": "stream",
     "text": [
      "Training a DecisionTreeClassifier using a training set size of 76020. . .\n",
      "running time (secs): 12.3310000896\n",
      "training set score: 0.567602239243\n",
      "\n",
      "\n",
      "---------------------------------------------------\n",
      "Training a KNeighborsClassifier using a training set size of 76020. . .\n",
      "running time (secs): 179.187000036\n",
      "training set score: 0.631563649789\n",
      "\n",
      "\n",
      "---------------------------------------------------\n",
      "Training a RandomForestClassifier using a training set size of 76020. . .\n",
      "running time (secs): 12.4609999657\n",
      "training set score: 0.676317547357\n",
      "\n",
      "\n",
      "---------------------------------------------------\n",
      "Training a LogisticRegression using a training set size of 76020. . .\n",
      "running time (secs): 8.77999997139\n",
      "training set score: 0.775024851897\n",
      "\n",
      "\n",
      "---------------------------------------------------\n",
      "Training a GradientBoostingClassifier using a training set size of 76020. . .\n",
      "running time (secs): 179.427000046\n",
      "training set score: 0.83505028897\n",
      "\n",
      "\n",
      "---------------------------------------------------\n",
      "Training a GaussianNB using a training set size of 76020. . .\n",
      "running time (secs): 1.42700004578\n",
      "training set score: 0.756874165171\n",
      "\n",
      "\n",
      "---------------------------------------------------\n",
      "Training a AdaBoostClassifier using a training set size of 76020. . .\n",
      "running time (secs): 53.8679997921\n",
      "training set score: 0.8241638867\n",
      "\n",
      "\n",
      "---------------------------------------------------\n",
      "Training a XGBClassifier using a training set size of 76020. . .\n",
      "running time (secs): 17.8429999352\n",
      "training set score: 0.83792492277\n",
      "\n",
      "\n",
      "---------------------------------------------------\n"
     ]
    }
   ],
   "source": [
    "\n",
    "\n",
    "#train and get the AUC score for each model\n",
    "Dtree_AUC = train_predict(Dtree,X_all_norm,y_all)\n",
    "KNN_AUC = train_predict(KNN,X_all_norm,y_all)\n",
    "RandomForest_AUC = train_predict(RandomForest,X_all_norm,y_all)\n",
    "LogisticReg_AUC = train_predict(LogisticReg,X_all_norm,y_all)\n",
    "GBoost_AUC = train_predict(GBoost,X_all_norm,y_all)\n",
    "GNB_AUC = train_predict(GNB,X_all_norm,y_all)\n",
    "Adaboost_AUC = train_predict(Adaboost,X_all_norm,y_all)\n",
    "Xgboost_AUC = train_predict(Xgboost,X_all_norm,y_all)\n"
   ]
  },
  {
   "cell_type": "markdown",
   "metadata": {
    "deletable": true,
    "editable": true
   },
   "source": [
    "### 5. Model Tuning"
   ]
  },
  {
   "cell_type": "markdown",
   "metadata": {
    "deletable": true,
    "editable": true
   },
   "source": [
    "#### From the ROC curve plot above, we can see that Decision Tree has the worse performance. Xgboost and Adaboost has the relatively good performance.XGBClassifier is chosen to be tuned later since it has the highst cross-validation AUC score and the running time is much lower compared to GradientBoosting Classifier."
   ]
  },
  {
   "cell_type": "code",
   "execution_count": 38,
   "metadata": {
    "collapsed": false,
    "deletable": true,
    "editable": true
   },
   "outputs": [
    {
     "name": "stdout",
     "output_type": "stream",
     "text": [
      "(60816, 43)\n",
      "(60816L,)\n",
      "(76020, 43)\n",
      "(76020L,)\n"
     ]
    }
   ],
   "source": [
    "print X_train_norm[:].shape\n",
    "print y_train.shape\n",
    "\n",
    "print X_all_norm.shape\n",
    "print y_all.shape"
   ]
  },
  {
   "cell_type": "code",
   "execution_count": 47,
   "metadata": {
    "collapsed": false,
    "deletable": true,
    "editable": true
   },
   "outputs": [
    {
     "name": "stdout",
     "output_type": "stream",
     "text": [
      "XBG_1 Best Estimator:  XGBClassifier(base_score=0.5, colsample_bylevel=1, colsample_bytree=0.8,\n",
      "       gamma=0, learning_rate=0.1, max_delta_step=0, max_depth=5,\n",
      "       min_child_weight=1, missing=None, n_estimators=200, nthread=-1,\n",
      "       objective='binary:logistic', reg_alpha=0, reg_lambda=1,\n",
      "       scale_pos_weight=1, seed=42, silent=False, subsample=0.8)\n",
      "best score:  0.835254733612\n"
     ]
    }
   ],
   "source": [
    "param_initial = {'n_estimators':[200],\n",
    "         'learning_rate': [0.1],\n",
    "         'max_depth':[5],\n",
    "         'min_child_weight':[1],\n",
    "         'subsample': [0.80],\n",
    "         'colsample_bytree': [0.80],\n",
    "         'gamma':[0]\n",
    "        }\n",
    "\n",
    "clf_initial = xgb.XGBClassifier(n_estimators=200, seed=42, silent=False)\n",
    "\n",
    "\n",
    "tuned_XGB_initial = GridSearchCV(clf_initial,param_initial,scoring=\"roc_auc\",cv=10)\n",
    "tuned_XGB_initial.fit(X_train_norm,y_train.values)\n",
    "print \"XBG_1 Best Estimator: \", tuned_XGB_initial.best_estimator_    \n",
    "print \"best score: \",tuned_XGB_initial.best_score_\n",
    "#clf_1.fit(X_train_norm, y_train.values, eval_metric='auc',verbose=True)\n",
    "\n",
    "\n"
   ]
  },
  {
   "cell_type": "code",
   "execution_count": 48,
   "metadata": {
    "collapsed": false,
    "deletable": true,
    "editable": true
   },
   "outputs": [
    {
     "name": "stdout",
     "output_type": "stream",
     "text": [
      "score for training set:  0.911157766469\n",
      "score for testing set:  0.750680178946\n"
     ]
    }
   ],
   "source": [
    "y_train_pred = tuned_XGB_initial.predict_proba(X_train_norm)\n",
    "score = roc_auc_score(y_train.values,y_train_pred[:,1])\n",
    "print \"score for training set: \", score\n",
    "\n",
    "y_test_pred = tuned_XGB_initial.predict_proba(X_test_norm)\n",
    "score_test = roc_auc_score(y_test.values, y_test_pred[:,1])\n",
    "print \"score for testing set: \", score_test\n",
    "\n"
   ]
  },
  {
   "cell_type": "code",
   "execution_count": 53,
   "metadata": {
    "collapsed": false,
    "deletable": true,
    "editable": true
   },
   "outputs": [
    {
     "name": "stdout",
     "output_type": "stream",
     "text": [
      "XBG_1 Best Estimator:  XGBClassifier(base_score=0.5, colsample_bylevel=1, colsample_bytree=0.8,\n",
      "       gamma=0, learning_rate=0.1, max_delta_step=0, max_depth=5,\n",
      "       min_child_weight=1, missing=None, n_estimators=100, nthread=-1,\n",
      "       objective='binary:logistic', reg_alpha=0, reg_lambda=1,\n",
      "       scale_pos_weight=1, seed=42, silent=False, subsample=0.8)\n",
      "best score:  0.83967865784\n"
     ]
    }
   ],
   "source": [
    "param_1 = {'n_estimators':[50, 100, 200, 300]}\n",
    "\n",
    "clf_initial.set_params(n_estimators=200, learning_rate=0.1, max_depth=5, min_child_weight=1, subsample=0.80, \n",
    "                      colsample_bytree=0.80, gamma=0)\n",
    "\n",
    "tuned_XGB_1 = GridSearchCV(clf_initial,param_1,scoring=\"roc_auc\",cv=10)\n",
    "tuned_XGB_1.fit(X_train_norm,y_train.values)\n",
    "print \"XBG_1 Best Estimator: \", tuned_XGB_1.best_estimator_    \n",
    "print \"best score: \",tuned_XGB_1.best_score_"
   ]
  },
  {
   "cell_type": "code",
   "execution_count": 54,
   "metadata": {
    "collapsed": false,
    "deletable": true,
    "editable": true
   },
   "outputs": [
    {
     "name": "stdout",
     "output_type": "stream",
     "text": [
      "{'n_estimators': 50} 0.839413728405\n",
      "{'n_estimators': 100} 0.83967865784\n",
      "{'n_estimators': 200} 0.835254733612\n",
      "{'n_estimators': 300} 0.830430274021\n"
     ]
    }
   ],
   "source": [
    "for i in range(0,len(tuned_XGB_1.grid_scores_)):\n",
    "    print tuned_XGB_1.grid_scores_[i][0],tuned_XGB_1.grid_scores_[i][1]"
   ]
  },
  {
   "cell_type": "code",
   "execution_count": 68,
   "metadata": {
    "collapsed": false
   },
   "outputs": [
    {
     "name": "stdout",
     "output_type": "stream",
     "text": [
      "score for training set:  0.888047100139\n",
      "score for testing set:  0.757664395599\n"
     ]
    }
   ],
   "source": [
    "y_train_pred = tuned_XGB_1.predict_proba(X_train_norm)\n",
    "score = roc_auc_score(y_train.values,y_train_pred[:,1])\n",
    "print \"score for training set: \", score\n",
    "\n",
    "y_test_pred = tuned_XGB_1.predict_proba(X_test_norm)\n",
    "score_test = roc_auc_score(y_test.values, y_test_pred[:,1])\n",
    "print \"score for testing set: \", score_test"
   ]
  },
  {
   "cell_type": "code",
   "execution_count": 56,
   "metadata": {
    "collapsed": false
   },
   "outputs": [
    {
     "name": "stdout",
     "output_type": "stream",
     "text": [
      "XGBClassifier(base_score=0.5, colsample_bylevel=1, colsample_bytree=0.8,\n",
      "       gamma=0, learning_rate=0.1, max_delta_step=0, max_depth=5,\n",
      "       min_child_weight=1, missing=None, n_estimators=100, nthread=-1,\n",
      "       objective='binary:logistic', reg_alpha=0, reg_lambda=1,\n",
      "       scale_pos_weight=1, seed=42, silent=False, subsample=0.8)\n",
      "XBG_2 Best Estimator:  XGBClassifier(base_score=0.5, colsample_bylevel=1, colsample_bytree=0.8,\n",
      "       gamma=0, learning_rate=0.1, max_delta_step=0, max_depth=5,\n",
      "       min_child_weight=5, missing=None, n_estimators=100, nthread=-1,\n",
      "       objective='binary:logistic', reg_alpha=0, reg_lambda=1,\n",
      "       scale_pos_weight=1, seed=42, silent=False, subsample=0.8)\n",
      "best score:  0.841661002809\n"
     ]
    }
   ],
   "source": [
    "param_2 = {'max_depth':range(3,10,2), 'min_child_weight':range(1,6,2)}\n",
    "\n",
    "clf_initial.set_params(n_estimators=100)\n",
    "print clf_initial\n",
    "tuned_XGB_2 = GridSearchCV(clf_initial,param_2,scoring=\"roc_auc\",cv=10)\n",
    "tuned_XGB_2.fit(X_train_norm,y_train.values)\n",
    "print \"XBG_2 Best Estimator: \", tuned_XGB_2.best_estimator_    \n",
    "print \"best score: \",tuned_XGB_2.best_score_"
   ]
  },
  {
   "cell_type": "code",
   "execution_count": 61,
   "metadata": {
    "collapsed": false
   },
   "outputs": [
    {
     "name": "stdout",
     "output_type": "stream",
     "text": [
      "{'max_depth': 3, 'min_child_weight': 1} 0.840787098836\n",
      "{'max_depth': 3, 'min_child_weight': 3} 0.841537750335\n",
      "{'max_depth': 3, 'min_child_weight': 5} 0.841071088515\n",
      "{'max_depth': 5, 'min_child_weight': 1} 0.83967865784\n",
      "{'max_depth': 5, 'min_child_weight': 3} 0.84082428887\n",
      "{'max_depth': 5, 'min_child_weight': 5} 0.841661002809\n",
      "{'max_depth': 7, 'min_child_weight': 1} 0.836878354996\n",
      "{'max_depth': 7, 'min_child_weight': 3} 0.838018294959\n",
      "{'max_depth': 7, 'min_child_weight': 5} 0.839862590847\n",
      "{'max_depth': 9, 'min_child_weight': 1} 0.833722465233\n",
      "{'max_depth': 9, 'min_child_weight': 3} 0.834514307328\n",
      "{'max_depth': 9, 'min_child_weight': 5} 0.837185231838\n"
     ]
    }
   ],
   "source": [
    "for i in range(0,len(tuned_XGB_2.grid_scores_)):\n",
    "    print tuned_XGB_2.grid_scores_[i][0],tuned_XGB_2.grid_scores_[i][1]\n",
    "\n"
   ]
  },
  {
   "cell_type": "code",
   "execution_count": 65,
   "metadata": {
    "collapsed": false
   },
   "outputs": [
    {
     "name": "stdout",
     "output_type": "stream",
     "text": [
      "XGBClassifier(base_score=0.5, colsample_bylevel=1, colsample_bytree=0.8,\n",
      "       gamma=0, learning_rate=0.1, max_delta_step=0, max_depth=5,\n",
      "       min_child_weight=1, missing=None, n_estimators=100, nthread=-1,\n",
      "       objective='binary:logistic', reg_alpha=0, reg_lambda=1,\n",
      "       scale_pos_weight=1, seed=42, silent=False, subsample=0.8)\n",
      "XBG_2 Best Estimator:  XGBClassifier(base_score=0.5, colsample_bylevel=1, colsample_bytree=0.8,\n",
      "       gamma=0, learning_rate=0.1, max_delta_step=0, max_depth=4,\n",
      "       min_child_weight=6, missing=None, n_estimators=100, nthread=-1,\n",
      "       objective='binary:logistic', reg_alpha=0, reg_lambda=1,\n",
      "       scale_pos_weight=1, seed=42, silent=False, subsample=0.8)\n",
      "best score:  0.842063680243\n"
     ]
    }
   ],
   "source": [
    "param_2b = {'max_depth':[4,5,6], 'min_child_weight':[4,5,6]}\n",
    "clf_initial.set_params(n_estimators=100)\n",
    "print clf_initial\n",
    "\n",
    "tuned_XGB_2b = GridSearchCV(clf_initial,param_2b,scoring=\"roc_auc\",cv=10)\n",
    "tuned_XGB_2b.fit(X_train_norm,y_train.values)\n",
    "print \"XBG_2 Best Estimator: \", tuned_XGB_2b.best_estimator_    \n",
    "print \"best score: \",tuned_XGB_2b.best_score_"
   ]
  },
  {
   "cell_type": "code",
   "execution_count": 67,
   "metadata": {
    "collapsed": false
   },
   "outputs": [
    {
     "name": "stdout",
     "output_type": "stream",
     "text": [
      "{'max_depth': 4, 'min_child_weight': 4} 0.841745385028\n",
      "{'max_depth': 4, 'min_child_weight': 5} 0.841984147933\n",
      "{'max_depth': 4, 'min_child_weight': 6} 0.842063680243\n",
      "{'max_depth': 5, 'min_child_weight': 4} 0.841316533328\n",
      "{'max_depth': 5, 'min_child_weight': 5} 0.841661002809\n",
      "{'max_depth': 5, 'min_child_weight': 6} 0.841233196642\n",
      "{'max_depth': 6, 'min_child_weight': 4} 0.840472391771\n",
      "{'max_depth': 6, 'min_child_weight': 5} 0.841538565983\n",
      "{'max_depth': 6, 'min_child_weight': 6} 0.841218308058\n"
     ]
    }
   ],
   "source": [
    "for i in range(0,len(tuned_XGB_2b.grid_scores_)):\n",
    "    print tuned_XGB_2b.grid_scores_[i][0],tuned_XGB_2b.grid_scores_[i][1]"
   ]
  },
  {
   "cell_type": "code",
   "execution_count": 70,
   "metadata": {
    "collapsed": false
   },
   "outputs": [
    {
     "name": "stdout",
     "output_type": "stream",
     "text": [
      "score for training set:  0.867979876835\n",
      "score for testing set:  0.764197194832\n"
     ]
    }
   ],
   "source": [
    "y_train_pred = tuned_XGB_2b.predict_proba(X_train_norm)\n",
    "score = roc_auc_score(y_train.values,y_train_pred[:,1])\n",
    "print \"score for training set: \", score\n",
    "\n",
    "y_test_pred = tuned_XGB_2b.predict_proba(X_test_norm)\n",
    "score_test = roc_auc_score(y_test.values, y_test_pred[:,1])\n",
    "print \"score for testing set: \", score_test"
   ]
  },
  {
   "cell_type": "code",
   "execution_count": 72,
   "metadata": {
    "collapsed": false
   },
   "outputs": [
    {
     "name": "stdout",
     "output_type": "stream",
     "text": [
      "XGBClassifier(base_score=0.5, colsample_bylevel=1, colsample_bytree=0.8,\n",
      "       gamma=0, learning_rate=0.1, max_delta_step=0, max_depth=4,\n",
      "       min_child_weight=6, missing=None, n_estimators=100, nthread=-1,\n",
      "       objective='binary:logistic', reg_alpha=0, reg_lambda=1,\n",
      "       scale_pos_weight=1, seed=42, silent=False, subsample=0.8)\n"
     ]
    }
   ],
   "source": [
    "#set parameters in classifier\n",
    "clf_initial.set_params(max_depth = 4, min_child_weight = 6)\n",
    "print clf_initial"
   ]
  },
  {
   "cell_type": "code",
   "execution_count": 73,
   "metadata": {
    "collapsed": false
   },
   "outputs": [
    {
     "name": "stdout",
     "output_type": "stream",
     "text": [
      "XGBClassifier(base_score=0.5, colsample_bylevel=1, colsample_bytree=0.8,\n",
      "       gamma=0, learning_rate=0.1, max_delta_step=0, max_depth=4,\n",
      "       min_child_weight=6, missing=None, n_estimators=100, nthread=-1,\n",
      "       objective='binary:logistic', reg_alpha=0, reg_lambda=1,\n",
      "       scale_pos_weight=1, seed=42, silent=False, subsample=0.8)\n",
      "XBG_2c Best Estimator:  XGBClassifier(base_score=0.5, colsample_bylevel=1, colsample_bytree=0.8,\n",
      "       gamma=0, learning_rate=0.1, max_delta_step=0, max_depth=4,\n",
      "       min_child_weight=8, missing=None, n_estimators=100, nthread=-1,\n",
      "       objective='binary:logistic', reg_alpha=0, reg_lambda=1,\n",
      "       scale_pos_weight=1, seed=42, silent=False, subsample=0.8)\n",
      "best score:  0.842826262093\n"
     ]
    }
   ],
   "source": [
    "param_2c = {'min_child_weight':[6,8,10,12]}\n",
    "print clf_initial\n",
    "\n",
    "tuned_XGB_2c = GridSearchCV(clf_initial,param_2c,scoring=\"roc_auc\",cv=10)\n",
    "tuned_XGB_2c.fit(X_train_norm,y_train.values)\n",
    "print \"XBG_2c Best Estimator: \", tuned_XGB_2c.best_estimator_    \n",
    "print \"best score: \",tuned_XGB_2c.best_score_"
   ]
  },
  {
   "cell_type": "code",
   "execution_count": 74,
   "metadata": {
    "collapsed": false
   },
   "outputs": [
    {
     "name": "stdout",
     "output_type": "stream",
     "text": [
      "{'min_child_weight': 6} 0.842063680243\n",
      "{'min_child_weight': 8} 0.842826262093\n",
      "{'min_child_weight': 10} 0.842395701415\n",
      "{'min_child_weight': 12} 0.842407922168\n"
     ]
    }
   ],
   "source": [
    "for i in range(0,len(tuned_XGB_2c.grid_scores_)):\n",
    "    print tuned_XGB_2c.grid_scores_[i][0],tuned_XGB_2c.grid_scores_[i][1]"
   ]
  },
  {
   "cell_type": "code",
   "execution_count": 75,
   "metadata": {
    "collapsed": false
   },
   "outputs": [
    {
     "name": "stdout",
     "output_type": "stream",
     "text": [
      "score for training set:  0.867626782284\n",
      "score for testing set:  0.771030767826\n"
     ]
    }
   ],
   "source": [
    "y_train_pred = tuned_XGB_2c.predict_proba(X_train_norm)\n",
    "score = roc_auc_score(y_train.values,y_train_pred[:,1])\n",
    "print \"score for training set: \", score\n",
    "\n",
    "y_test_pred = tuned_XGB_2c.predict_proba(X_test_norm)\n",
    "score_test = roc_auc_score(y_test.values, y_test_pred[:,1])\n",
    "print \"score for testing set: \", score_test"
   ]
  },
  {
   "cell_type": "code",
   "execution_count": 76,
   "metadata": {
    "collapsed": false
   },
   "outputs": [
    {
     "name": "stdout",
     "output_type": "stream",
     "text": [
      "XGBClassifier(base_score=0.5, colsample_bylevel=1, colsample_bytree=0.8,\n",
      "       gamma=0, learning_rate=0.1, max_delta_step=0, max_depth=4,\n",
      "       min_child_weight=8, missing=None, n_estimators=100, nthread=-1,\n",
      "       objective='binary:logistic', reg_alpha=0, reg_lambda=1,\n",
      "       scale_pos_weight=1, seed=42, silent=False, subsample=0.8)\n"
     ]
    }
   ],
   "source": [
    "#set parameters in classifier\n",
    "clf_initial.set_params(max_depth = 4, min_child_weight = 8)\n",
    "print clf_initial"
   ]
  },
  {
   "cell_type": "code",
   "execution_count": 77,
   "metadata": {
    "collapsed": false
   },
   "outputs": [
    {
     "name": "stdout",
     "output_type": "stream",
     "text": [
      "XGBClassifier(base_score=0.5, colsample_bylevel=1, colsample_bytree=0.8,\n",
      "       gamma=0, learning_rate=0.1, max_delta_step=0, max_depth=4,\n",
      "       min_child_weight=8, missing=None, n_estimators=100, nthread=-1,\n",
      "       objective='binary:logistic', reg_alpha=0, reg_lambda=1,\n",
      "       scale_pos_weight=1, seed=42, silent=False, subsample=0.8)\n",
      "XBG_3 Best Estimator:  XGBClassifier(base_score=0.5, colsample_bylevel=1, colsample_bytree=0.8,\n",
      "       gamma=0, learning_rate=0.1, max_delta_step=0, max_depth=4,\n",
      "       min_child_weight=8, missing=None, n_estimators=100, nthread=-1,\n",
      "       objective='binary:logistic', reg_alpha=0, reg_lambda=1,\n",
      "       scale_pos_weight=1, seed=42, silent=False, subsample=0.8)\n",
      "best score:  0.842826262093\n"
     ]
    }
   ],
   "source": [
    "param_3 = {'gamma':[0,0.1,0.2,0.3,0.4,0.5]}\n",
    "print clf_initial\n",
    "\n",
    "tuned_XGB_3 = GridSearchCV(clf_initial,param_3,scoring=\"roc_auc\",cv=10)\n",
    "tuned_XGB_3.fit(X_train_norm,y_train.values)\n",
    "print \"XBG_3 Best Estimator: \", tuned_XGB_3.best_estimator_    \n",
    "print \"best score: \",tuned_XGB_3.best_score_"
   ]
  },
  {
   "cell_type": "code",
   "execution_count": 78,
   "metadata": {
    "collapsed": false
   },
   "outputs": [
    {
     "name": "stdout",
     "output_type": "stream",
     "text": [
      "{'gamma': 0} 0.842826262093\n",
      "{'gamma': 0.1} 0.842584795051\n",
      "{'gamma': 0.2} 0.842565085909\n",
      "{'gamma': 0.3} 0.842736708966\n",
      "{'gamma': 0.4} 0.842555866268\n",
      "{'gamma': 0.5} 0.842315214036\n"
     ]
    }
   ],
   "source": [
    "for i in range(0,len(tuned_XGB_3.grid_scores_)):\n",
    "    print tuned_XGB_3.grid_scores_[i][0],tuned_XGB_3.grid_scores_[i][1]"
   ]
  },
  {
   "cell_type": "code",
   "execution_count": 79,
   "metadata": {
    "collapsed": false
   },
   "outputs": [
    {
     "name": "stdout",
     "output_type": "stream",
     "text": [
      "score for training set:  0.867626782284\n",
      "score for testing set:  0.771030767826\n"
     ]
    }
   ],
   "source": [
    "y_train_pred = tuned_XGB_3.predict_proba(X_train_norm)\n",
    "score = roc_auc_score(y_train.values,y_train_pred[:,1])\n",
    "print \"score for training set: \", score\n",
    "\n",
    "y_test_pred = tuned_XGB_3.predict_proba(X_test_norm)\n",
    "score_test = roc_auc_score(y_test.values, y_test_pred[:,1])\n",
    "print \"score for testing set: \", score_test"
   ]
  },
  {
   "cell_type": "code",
   "execution_count": 80,
   "metadata": {
    "collapsed": false
   },
   "outputs": [
    {
     "name": "stdout",
     "output_type": "stream",
     "text": [
      "XGBClassifier(base_score=0.5, colsample_bylevel=1, colsample_bytree=0.8,\n",
      "       gamma=0, learning_rate=0.1, max_delta_step=0, max_depth=4,\n",
      "       min_child_weight=8, missing=None, n_estimators=100, nthread=-1,\n",
      "       objective='binary:logistic', reg_alpha=0, reg_lambda=1,\n",
      "       scale_pos_weight=1, seed=42, silent=False, subsample=0.8)\n",
      "XBG_4 Best Estimator:  XGBClassifier(base_score=0.5, colsample_bylevel=1, colsample_bytree=0.6,\n",
      "       gamma=0, learning_rate=0.1, max_delta_step=0, max_depth=4,\n",
      "       min_child_weight=8, missing=None, n_estimators=100, nthread=-1,\n",
      "       objective='binary:logistic', reg_alpha=0, reg_lambda=1,\n",
      "       scale_pos_weight=1, seed=42, silent=False, subsample=0.8)\n",
      "best score:  0.842860555346\n"
     ]
    }
   ],
   "source": [
    "param_4 = {'subsample':[0.6,0.7,0.8,0.9,1.0], 'colsample_bytree':[0.6,0.7,0.8,0.9,1.0]}\n",
    "print clf_initial\n",
    "\n",
    "tuned_XGB_4 = GridSearchCV(clf_initial,param_4,scoring=\"roc_auc\",cv=10)\n",
    "tuned_XGB_4.fit(X_train_norm,y_train.values)\n",
    "print \"XBG_4 Best Estimator: \", tuned_XGB_4.best_estimator_    \n",
    "print \"best score: \",tuned_XGB_4.best_score_"
   ]
  },
  {
   "cell_type": "code",
   "execution_count": 81,
   "metadata": {
    "collapsed": false
   },
   "outputs": [
    {
     "name": "stdout",
     "output_type": "stream",
     "text": [
      "{'subsample': 0.6, 'colsample_bytree': 0.6} 0.842555587415\n",
      "{'subsample': 0.7, 'colsample_bytree': 0.6} 0.842065837288\n",
      "{'subsample': 0.8, 'colsample_bytree': 0.6} 0.842860555346\n",
      "{'subsample': 0.9, 'colsample_bytree': 0.6} 0.841372985244\n",
      "{'subsample': 1.0, 'colsample_bytree': 0.6} 0.841254266823\n",
      "{'subsample': 0.6, 'colsample_bytree': 0.7} 0.842042527161\n",
      "{'subsample': 0.7, 'colsample_bytree': 0.7} 0.842309186579\n",
      "{'subsample': 0.8, 'colsample_bytree': 0.7} 0.842558666719\n",
      "{'subsample': 0.9, 'colsample_bytree': 0.7} 0.840913063633\n",
      "{'subsample': 1.0, 'colsample_bytree': 0.7} 0.841450276503\n",
      "{'subsample': 0.6, 'colsample_bytree': 0.8} 0.841539078135\n",
      "{'subsample': 0.7, 'colsample_bytree': 0.8} 0.841661153248\n",
      "{'subsample': 0.8, 'colsample_bytree': 0.8} 0.842826262093\n",
      "{'subsample': 0.9, 'colsample_bytree': 0.8} 0.840883820817\n",
      "{'subsample': 1.0, 'colsample_bytree': 0.8} 0.841048095342\n",
      "{'subsample': 0.6, 'colsample_bytree': 0.9} 0.84227301514\n",
      "{'subsample': 0.7, 'colsample_bytree': 0.9} 0.841997392109\n",
      "{'subsample': 0.8, 'colsample_bytree': 0.9} 0.841893738379\n",
      "{'subsample': 0.9, 'colsample_bytree': 0.9} 0.841154300981\n",
      "{'subsample': 1.0, 'colsample_bytree': 0.9} 0.841202733485\n",
      "{'subsample': 0.6, 'colsample_bytree': 1.0} 0.84192878565\n",
      "{'subsample': 0.7, 'colsample_bytree': 1.0} 0.841805461483\n",
      "{'subsample': 0.8, 'colsample_bytree': 1.0} 0.842280544458\n",
      "{'subsample': 0.9, 'colsample_bytree': 1.0} 0.84145568702\n",
      "{'subsample': 1.0, 'colsample_bytree': 1.0} 0.840914811817\n"
     ]
    }
   ],
   "source": [
    "for i in range(0,len(tuned_XGB_4.grid_scores_)):\n",
    "    print tuned_XGB_4.grid_scores_[i][0],tuned_XGB_4.grid_scores_[i][1]"
   ]
  },
  {
   "cell_type": "code",
   "execution_count": 82,
   "metadata": {
    "collapsed": false
   },
   "outputs": [
    {
     "name": "stdout",
     "output_type": "stream",
     "text": [
      "score for training set:  0.866110533714\n",
      "score for testing set:  0.783992912901\n"
     ]
    }
   ],
   "source": [
    "y_train_pred = tuned_XGB_4.predict_proba(X_train_norm)\n",
    "score = roc_auc_score(y_train.values,y_train_pred[:,1])\n",
    "print \"score for training set: \", score\n",
    "\n",
    "y_test_pred = tuned_XGB_4.predict_proba(X_test_norm)\n",
    "score_test = roc_auc_score(y_test.values, y_test_pred[:,1])\n",
    "print \"score for testing set: \", score_test"
   ]
  },
  {
   "cell_type": "code",
   "execution_count": 86,
   "metadata": {
    "collapsed": false
   },
   "outputs": [
    {
     "name": "stdout",
     "output_type": "stream",
     "text": [
      "XGBClassifier(base_score=0.5, colsample_bylevel=1, colsample_bytree=0.6,\n",
      "       gamma=0, learning_rate=0.1, max_delta_step=0, max_depth=4,\n",
      "       min_child_weight=8, missing=None, n_estimators=100, nthread=-1,\n",
      "       objective='binary:logistic', reg_alpha=0, reg_lambda=1,\n",
      "       scale_pos_weight=1, seed=42, silent=False, subsample=0.8)\n",
      "XBG_4 Best Estimator:  XGBClassifier(base_score=0.5, colsample_bylevel=1, colsample_bytree=0.6,\n",
      "       gamma=0, learning_rate=0.1, max_delta_step=0, max_depth=4,\n",
      "       min_child_weight=8, missing=None, n_estimators=100, nthread=-1,\n",
      "       objective='binary:logistic', reg_alpha=0, reg_lambda=1,\n",
      "       scale_pos_weight=1, seed=42, silent=False, subsample=0.8)\n",
      "best score:  0.842860555346\n"
     ]
    }
   ],
   "source": [
    "param_4b = {'subsample':[0.75,0.8,0.85], 'colsample_bytree':[0.55,0.6,0.65]}\n",
    "clf_initial.set_params(colsample_bytree=0.6)\n",
    "print clf_initial\n",
    "\n",
    "tuned_XGB_4b = GridSearchCV(clf_initial,param_4b,scoring=\"roc_auc\",cv=10)\n",
    "tuned_XGB_4b.fit(X_train_norm,y_train.values)\n",
    "print \"XBG_4 Best Estimator: \", tuned_XGB_4b.best_estimator_    \n",
    "print \"best score: \",tuned_XGB_4b.best_score_"
   ]
  },
  {
   "cell_type": "code",
   "execution_count": 87,
   "metadata": {
    "collapsed": false
   },
   "outputs": [
    {
     "name": "stdout",
     "output_type": "stream",
     "text": [
      "{'subsample': 0.75, 'colsample_bytree': 0.55} 0.842131262423\n",
      "{'subsample': 0.8, 'colsample_bytree': 0.55} 0.842298598506\n",
      "{'subsample': 0.85, 'colsample_bytree': 0.55} 0.842151848717\n",
      "{'subsample': 0.75, 'colsample_bytree': 0.6} 0.842162894299\n",
      "{'subsample': 0.8, 'colsample_bytree': 0.6} 0.842860555346\n",
      "{'subsample': 0.85, 'colsample_bytree': 0.6} 0.842712218695\n",
      "{'subsample': 0.75, 'colsample_bytree': 0.65} 0.841615693769\n",
      "{'subsample': 0.8, 'colsample_bytree': 0.65} 0.842511887489\n",
      "{'subsample': 0.85, 'colsample_bytree': 0.65} 0.84250970007\n"
     ]
    }
   ],
   "source": [
    "for i in range(0,len(tuned_XGB_4b.grid_scores_)):\n",
    "    print tuned_XGB_4b.grid_scores_[i][0],tuned_XGB_4b.grid_scores_[i][1]"
   ]
  },
  {
   "cell_type": "code",
   "execution_count": 88,
   "metadata": {
    "collapsed": false
   },
   "outputs": [
    {
     "name": "stdout",
     "output_type": "stream",
     "text": [
      "score for training set:  0.866110533714\n",
      "score for testing set:  0.783992912901\n"
     ]
    }
   ],
   "source": [
    "y_train_pred = tuned_XGB_4b.predict_proba(X_train_norm)\n",
    "score = roc_auc_score(y_train.values,y_train_pred[:,1])\n",
    "print \"score for training set: \", score\n",
    "\n",
    "y_test_pred = tuned_XGB_4b.predict_proba(X_test_norm)\n",
    "score_test = roc_auc_score(y_test.values, y_test_pred[:,1])\n",
    "print \"score for testing set: \", score_test"
   ]
  },
  {
   "cell_type": "code",
   "execution_count": 89,
   "metadata": {
    "collapsed": false
   },
   "outputs": [
    {
     "name": "stdout",
     "output_type": "stream",
     "text": [
      "XGBClassifier(base_score=0.5, colsample_bylevel=1, colsample_bytree=0.6,\n",
      "       gamma=0, learning_rate=0.1, max_delta_step=0, max_depth=4,\n",
      "       min_child_weight=8, missing=None, n_estimators=100, nthread=-1,\n",
      "       objective='binary:logistic', reg_alpha=0, reg_lambda=1,\n",
      "       scale_pos_weight=1, seed=42, silent=False, subsample=0.8)\n",
      "XBG_4 Best Estimator:  XGBClassifier(base_score=0.5, colsample_bylevel=1, colsample_bytree=0.6,\n",
      "       gamma=0, learning_rate=0.1, max_delta_step=0, max_depth=4,\n",
      "       min_child_weight=8, missing=None, n_estimators=100, nthread=-1,\n",
      "       objective='binary:logistic', reg_alpha=0, reg_lambda=1,\n",
      "       scale_pos_weight=1, seed=42, silent=False, subsample=0.8)\n",
      "best score:  0.842860555346\n"
     ]
    }
   ],
   "source": [
    "param_4c = {'subsample':[0.78,0.8,0.82], 'colsample_bytree':[0.58,0.6,0.62]}\n",
    "print clf_initial\n",
    "\n",
    "tuned_XGB_4c = GridSearchCV(clf_initial,param_4c,scoring=\"roc_auc\",cv=10)\n",
    "tuned_XGB_4c.fit(X_train_norm,y_train.values)\n",
    "print \"XBG_4 Best Estimator: \", tuned_XGB_4c.best_estimator_    \n",
    "print \"best score: \",tuned_XGB_4c.best_score_"
   ]
  },
  {
   "cell_type": "code",
   "execution_count": 90,
   "metadata": {
    "collapsed": false
   },
   "outputs": [
    {
     "name": "stdout",
     "output_type": "stream",
     "text": [
      "{'subsample': 0.78, 'colsample_bytree': 0.58} 0.842666865063\n",
      "{'subsample': 0.8, 'colsample_bytree': 0.58} 0.842612581017\n",
      "{'subsample': 0.82, 'colsample_bytree': 0.58} 0.841941728489\n",
      "{'subsample': 0.78, 'colsample_bytree': 0.6} 0.842350378055\n",
      "{'subsample': 0.8, 'colsample_bytree': 0.6} 0.842860555346\n",
      "{'subsample': 0.82, 'colsample_bytree': 0.6} 0.842332537601\n",
      "{'subsample': 0.78, 'colsample_bytree': 0.62} 0.842544679426\n",
      "{'subsample': 0.8, 'colsample_bytree': 0.62} 0.84256483412\n",
      "{'subsample': 0.82, 'colsample_bytree': 0.62} 0.842525739377\n"
     ]
    }
   ],
   "source": [
    "for i in range(0,len(tuned_XGB_4c.grid_scores_)):\n",
    "    print tuned_XGB_4c.grid_scores_[i][0],tuned_XGB_4c.grid_scores_[i][1]"
   ]
  },
  {
   "cell_type": "code",
   "execution_count": 91,
   "metadata": {
    "collapsed": false
   },
   "outputs": [
    {
     "name": "stdout",
     "output_type": "stream",
     "text": [
      "score for training set:  0.866110533714\n",
      "score for testing set:  0.783992912901\n"
     ]
    }
   ],
   "source": [
    "y_train_pred = tuned_XGB_4c.predict_proba(X_train_norm)\n",
    "score = roc_auc_score(y_train.values,y_train_pred[:,1])\n",
    "print \"score for training set: \", score\n",
    "\n",
    "y_test_pred = tuned_XGB_4c.predict_proba(X_test_norm)\n",
    "score_test = roc_auc_score(y_test.values, y_test_pred[:,1])\n",
    "print \"score for testing set: \", score_test"
   ]
  },
  {
   "cell_type": "code",
   "execution_count": 93,
   "metadata": {
    "collapsed": false
   },
   "outputs": [
    {
     "name": "stdout",
     "output_type": "stream",
     "text": [
      "XGBClassifier(base_score=0.5, colsample_bylevel=1, colsample_bytree=0.6,\n",
      "       gamma=0, learning_rate=0.1, max_delta_step=0, max_depth=4,\n",
      "       min_child_weight=8, missing=None, n_estimators=100, nthread=-1,\n",
      "       objective='binary:logistic', reg_alpha=0, reg_lambda=1,\n",
      "       scale_pos_weight=1, seed=42, silent=False, subsample=0.8)\n"
     ]
    }
   ],
   "source": [
    "print clf_initial"
   ]
  },
  {
   "cell_type": "code",
   "execution_count": 111,
   "metadata": {
    "collapsed": false
   },
   "outputs": [
    {
     "name": "stdout",
     "output_type": "stream",
     "text": [
      "XBG_5 Best Estimator:  XGBClassifier(base_score=0.5, colsample_bylevel=1, colsample_bytree=0.6,\n",
      "       gamma=0, learning_rate=0.02, max_delta_step=0, max_depth=4,\n",
      "       min_child_weight=8, missing=None, n_estimators=550, nthread=-1,\n",
      "       objective='binary:logistic', reg_alpha=0, reg_lambda=1,\n",
      "       scale_pos_weight=1, seed=42, silent=False, subsample=0.8)\n",
      "best score:  0.842961036332\n"
     ]
    }
   ],
   "source": [
    "param_5 = {'learning_rate':[0.01, 0.02, 0.1], 'n_estimators':[100, 550, 750]}\n",
    "tuned_XGB_5 = GridSearchCV(clf_initial,param_5,scoring=\"roc_auc\",cv=10)\n",
    "tuned_XGB_5.fit(X_train_norm,y_train.values)\n",
    "print \"XBG_5 Best Estimator: \", tuned_XGB_5.best_estimator_    \n",
    "print \"best score: \",tuned_XGB_5.best_score_"
   ]
  },
  {
   "cell_type": "code",
   "execution_count": 112,
   "metadata": {
    "collapsed": false
   },
   "outputs": [
    {
     "name": "stdout",
     "output_type": "stream",
     "text": [
      "{'n_estimators': 100, 'learning_rate': 0.01} 0.820246567683\n",
      "{'n_estimators': 550, 'learning_rate': 0.01} 0.840739014031\n",
      "{'n_estimators': 750, 'learning_rate': 0.01} 0.842257861282\n",
      "{'n_estimators': 100, 'learning_rate': 0.02} 0.826131932845\n",
      "{'n_estimators': 550, 'learning_rate': 0.02} 0.842961036332\n",
      "{'n_estimators': 750, 'learning_rate': 0.02} 0.842552544296\n",
      "{'n_estimators': 100, 'learning_rate': 0.1} 0.842860555346\n",
      "{'n_estimators': 550, 'learning_rate': 0.1} 0.833274619022\n",
      "{'n_estimators': 750, 'learning_rate': 0.1} 0.828754808998\n"
     ]
    }
   ],
   "source": [
    "for i in range(0,len(tuned_XGB_5.grid_scores_)):\n",
    "    print tuned_XGB_5.grid_scores_[i][0],tuned_XGB_5.grid_scores_[i][1]"
   ]
  },
  {
   "cell_type": "code",
   "execution_count": 113,
   "metadata": {
    "collapsed": false
   },
   "outputs": [
    {
     "name": "stdout",
     "output_type": "stream",
     "text": [
      "score for training set:  0.869095774068\n",
      "score for testing set:  0.77726798594\n"
     ]
    }
   ],
   "source": [
    "y_train_pred = tuned_XGB_5.predict_proba(X_train_norm)\n",
    "score = roc_auc_score(y_train.values,y_train_pred[:,1])\n",
    "print \"score for training set: \", score\n",
    "\n",
    "y_test_pred = tuned_XGB_5.predict_proba(X_test_norm)\n",
    "score_test = roc_auc_score(y_test.values, y_test_pred[:,1])\n",
    "print \"score for testing set: \", score_test"
   ]
  },
  {
   "cell_type": "code",
   "execution_count": 120,
   "metadata": {
    "collapsed": false,
    "deletable": true,
    "editable": true
   },
   "outputs": [
    {
     "name": "stdout",
     "output_type": "stream",
     "text": [
      "clf_6: XGBClassifier(base_score=0.5, colsample_bylevel=1, colsample_bytree=0.6,\n",
      "       gamma=0, learning_rate=0.02, max_delta_step=0, max_depth=4,\n",
      "       min_child_weight=8, missing=None, n_estimators=550, nthread=-1,\n",
      "       objective='binary:logistic', reg_alpha=0, reg_lambda=1,\n",
      "       scale_pos_weight=1, seed=42, silent=False, subsample=0.8)\n",
      "0.864405502764\n"
     ]
    }
   ],
   "source": [
    "#Run the tuned classifier with X_test and get the AUC score\n",
    "#Final tuned classifier\n",
    "\n",
    "clf_6 = clf_initial\n",
    "clf_6.set_params(learning_rate=0.02, n_estimators=550)\n",
    "print 'clf_6:',clf_6\n",
    "\n",
    "clf_6.fit(X_all_norm, y_all)\n",
    "y_all_pred = clf_6.predict_proba(X_all_norm)\n",
    "final_score = roc_auc_score(y_all, y_all_pred[:,1])\n",
    "print final_score"
   ]
  },
  {
   "cell_type": "code",
   "execution_count": 121,
   "metadata": {
    "collapsed": false
   },
   "outputs": [
    {
     "name": "stdout",
     "output_type": "stream",
     "text": [
      " 1) ['var38']                      0.133991\n",
      " 2) ['var15']                      0.123369\n",
      " 3) ['saldo_var30']                0.082853\n",
      " 4) ['saldo_medio_var5_hace2']     0.059636\n",
      " 5) ['saldo_medio_var5_hace3']     0.050835\n",
      " 6) ['saldo_medio_var5_ult3']      0.043703\n",
      " 7) ['num_var22_ult3']             0.035508\n",
      " 8) ['num_var45_hace3']            0.033687\n",
      " 9) ['saldo_medio_var5_ult1']      0.031563\n",
      "10) ['saldo_var42']                0.027011\n",
      "11) ['num_var22_ult1']             0.025797\n",
      "12) ['var3']                       0.024279\n",
      "13) ['num_var45_ult3']             0.020789\n",
      "14) ['num_var22_hace3']            0.018816\n",
      "15) ['imp_op_var41_efect_ult3']    0.018513\n",
      "16) ['saldo_var5']                 0.018361\n",
      "17) ['saldo_var37']                0.017147\n",
      "18) ['imp_op_var41_comer_ult3']    0.017147\n",
      "19) ['imp_op_var39_efect_ult1']    0.016237\n",
      "20) ['num_med_var45_ult3']         0.016085\n",
      "21) ['num_meses_var39_vig_ult3']   0.014112\n",
      "22) ['num_var45_hace2']            0.013505\n",
      "23) ['imp_op_var39_ult1']          0.013505\n",
      "24) ['imp_trans_var37_ult1']       0.013202\n",
      "25) ['imp_op_var41_ult1']          0.012898\n",
      "26) ['num_meses_var5_ult3']        0.012443\n",
      "27) ['imp_op_var39_comer_ult3']    0.010774\n",
      "28) ['num_op_var41_ult3']          0.009105\n",
      "29) ['num_var45_ult1']             0.008042\n",
      "30) ['imp_op_var39_comer_ult1']    0.008042\n",
      "31) ['num_var4']                   0.007891\n",
      "32) ['imp_op_var39_efect_ult3']    0.007891\n",
      "33) ['num_med_var22_ult3']         0.007587\n",
      "34) ['num_var39_0']                0.006980\n",
      "35) ['num_var22_hace2']            0.006373\n",
      "36) ['imp_op_var41_comer_ult1']    0.005766\n",
      "37) ['num_op_var39_ult3']          0.005766\n",
      "38) ['num_var35']                  0.005463\n",
      "39) ['var36']                      0.004856\n",
      "40) ['ind_var30']                  0.004552\n",
      "41) ['num_var30']                  0.003035\n",
      "42) ['ind_var5']                   0.002580\n",
      "43) ['num_var42']                  0.000303\n",
      "total importance for first 50 features:  0.999999998661\n"
     ]
    }
   ],
   "source": [
    "importances = clf_6.feature_importances_\n",
    "indices = np.argsort(importances)[::-1] #argsort return the indices that sort the array\n",
    "total_importance_first_50 = 0\n",
    "for f in range(X_train_norm.shape[1]):\n",
    "    print(\"%2d) %-*s %f\" % (f + 1, 30, feat_labels[indices[f]], importances[indices[f]]))\n",
    "    \n",
    "    if f<=49:\n",
    "        total_importance_first_50 += importances[indices[f]]\n",
    "    \n",
    "print \"total importance for first 50 features: \", total_importance_first_50"
   ]
  },
  {
   "cell_type": "code",
   "execution_count": 122,
   "metadata": {
    "collapsed": false
   },
   "outputs": [
    {
     "data": {
      "image/png": "[encoded data removed]",
      "text/plain": [
       "<matplotlib.figure.Figure at 0x1d3a8828>"
      ]
     },
     "metadata": {},
     "output_type": "display_data"
    }
   ],
   "source": [
    "Eigen_value = pd.Series(importances,index=feat_labels).sort_values(ascending=False)\n",
    "cum_Eigen_value = np.cumsum(Eigen_value)\n",
    "\n",
    "#print Features\n",
    "#Feature Importance Visualization\n",
    "#plt.figure(size=(30,30))\n",
    "plt.figure(figsize=(12,8))\n",
    "plt.bar(range(1,16),Eigen_value[:15], alpha=0.5,align='center',label='individual feature eigen value')\n",
    "plt.step(range(1,16), cum_Eigen_value[:15], where='mid',label='cumulative eigen value')\n",
    "plt.xticks(range(1,16),Eigen_value.index[:15], rotation=90)\n",
    "plt.ylabel('feature eigen value',fontsize=15)\n",
    "plt.xlabel('feature',fontsize=15)\n",
    "plt.legend(loc='best',fontsize=15)\n",
    "plt.show()"
   ]
  },
  {
   "cell_type": "markdown",
   "metadata": {
    "deletable": true,
    "editable": true
   },
   "source": [
    "### 6. Analyzing Model Performance"
   ]
  },
  {
   "cell_type": "code",
   "execution_count": 118,
   "metadata": {
    "collapsed": false,
    "deletable": true,
    "editable": true
   },
   "outputs": [
    {
     "name": "stdout",
     "output_type": "stream",
     "text": [
      "Creating learning curve graphs for train and test data set\n",
      "size:  1000\n",
      "train roc_auc: 0.893604737232\n",
      "test roc_auc: 0.752481626039\n",
      "size:  5000\n",
      "train roc_auc: 0.922550859376\n",
      "test roc_auc: 0.794559139049\n",
      "size:  10000\n",
      "train roc_auc: 0.906799299967\n",
      "test roc_auc: 0.786320642746\n",
      "size:  15000\n",
      "train roc_auc: 0.897692868653\n",
      "test roc_auc: 0.779329008034\n",
      "size:  20000\n",
      "train roc_auc: 0.891488320716\n",
      "test roc_auc: 0.754408837761\n",
      "size:  34000\n",
      "train roc_auc: 0.877143999207\n",
      "test roc_auc: 0.748046825071\n",
      "size:  48000\n",
      "train roc_auc: 0.872045567129\n",
      "test roc_auc: 0.76770137177\n",
      "size:  55000\n",
      "train roc_auc: 0.869780070176\n",
      "test roc_auc: 0.761355735871\n",
      "size:  62000\n",
      "train roc_auc: 0.869095774068\n",
      "test roc_auc: 0.77726798594\n",
      "size:  76020\n",
      "train roc_auc: 0.869095774068\n",
      "test roc_auc: 0.77726798594\n"
     ]
    },
    {
     "data": {
      "image/png": "[encoded data removed]",
      "text/plain": [
       "<matplotlib.figure.Figure at 0x19f42b38>"
      ]
     },
     "metadata": {},
     "output_type": "display_data"
    }
   ],
   "source": [
    "# choose performance metric\n",
    "def performance_metric(y_true, y_pred):\n",
    "    score = roc_auc_score(y_true,y_pred[:,1])\n",
    "    return score\n",
    "\n",
    "# learning rate\n",
    "def learning_curves(X, y, X_test, y_test, clf):\n",
    "    print (\"Creating learning curve graphs for train and test data set\")\n",
    "    # Create the figure \n",
    "    plt.figure(figsize=(12,8))\n",
    "    \n",
    "    sizes = [1000,5000,10000,15000,20000,34000,48000,55000,62000,76020]\n",
    "    train_score = np.zeros(len(sizes)) # score of the training set\n",
    "    test_score = np.zeros(len(sizes)) # score of the test set\n",
    "    \n",
    "    # Create different models\n",
    "    for i, s in enumerate(sizes):\n",
    "            print \"size: \",s   \n",
    "            #scores = cross_validation.cross_val_score(clf, X[:s], y[:s],scoring='roc_auc', cv=10)\n",
    "           \n",
    "\n",
    "            # Find the performance on the testing set\n",
    "            # use all the training data\n",
    "            clf.fit(X[:s], y[:s])\n",
    "            y_pred = clf.predict_proba(X[:s])\n",
    "            #print y_pred\n",
    "            train_score[i] = performance_metric(y[:s], y_pred)\n",
    "            print (\"train roc_auc: {}\".format(train_score[i]))\n",
    "            \n",
    "            y_pred_test = clf.predict_proba(X_test)\n",
    "            test_score[i] = performance_metric(y_test, y_pred_test)    \n",
    "            print (\"test roc_auc: {}\".format(test_score[i])) \n",
    "\n",
    "    plt.plot(sizes, train_score, lw = 2, label = 'Training set')\n",
    "    plt.plot(sizes, test_score, lw = 2, label = 'Testing set')\n",
    "    plt.legend(loc=\"best\",fontsize=15)\n",
    "    plt.title('Learning Curve', fontsize=18)\n",
    "    plt.xlabel('Number of Data Points')\n",
    "    plt.ylabel('AUC score')\n",
    "    \n",
    "\n",
    "#learning_curves(X_train_norm, y_train, X_test_norm, y_test, clf_initial)\n",
    "learning_curves(X_train_norm, y_train, X_test_norm, y_test, clf_6)"
   ]
  },
  {
   "cell_type": "markdown",
   "metadata": {
    "deletable": true,
    "editable": true
   },
   "source": [
    "### 7. Final Prediction on Test Dataset"
   ]
  },
  {
   "cell_type": "code",
   "execution_count": 115,
   "metadata": {
    "collapsed": false,
    "deletable": true,
    "editable": true
   },
   "outputs": [],
   "source": [
    "final_clf = clf_6\n",
    "final_clf.fit(X_train_norm,y_train)\n",
    "y_pred = final_clf.predict_proba(kaggle_test_norm)\n",
    "submission = pd.DataFrame({\"ID\":test[\"ID\"],\"TARGET\":y_pred[:,1]})\n",
    "submission.to_csv(\"submission_RE.csv\",index=False)\n"
   ]
  },
  {
   "cell_type": "code",
   "execution_count": null,
   "metadata": {
    "collapsed": true,
    "deletable": true,
    "editable": true
   },
   "outputs": [],
   "source": []
  }
 ],
 "metadata": {
  "kernelspec": {
   "display_name": "Python 2",
   "language": "python",
   "name": "python2"
  },
  "language_info": {
   "codemirror_mode": {
    "name": "ipython",
    "version": 2
   },
   "file_extension": ".py",
   "mimetype": "text/x-python",
   "name": "python",
   "nbconvert_exporter": "python",
   "pygments_lexer": "ipython2",
   "version": "2.7.13"
  }
 },
 "nbformat": 4,
 "nbformat_minor": 0
}
